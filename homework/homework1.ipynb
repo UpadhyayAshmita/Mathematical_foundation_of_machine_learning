{
 "cells": [
  {
   "cell_type": "markdown",
   "metadata": {},
   "source": [
    "This exercies involves the `boston` housing dataset. Have a jupyter notebook ready to answer the following questions.\n",
    "The `boston` dataset is in the folder `datasets` of this repository and describes housing values and other information about Boston census tracts."
   ]
  },
  {
   "cell_type": "markdown",
   "metadata": {},
   "source": [
    "1. Load the dataset and explore the variables by `pandas`"
   ]
  },
  {
   "cell_type": "code",
   "execution_count": 22,
   "metadata": {},
   "outputs": [],
   "source": [
    "import pandas as pd\n",
    "filepath= \"\\MFML\\mfml-ashmita-upadhyay/datasets/Boston.csv\"\n",
    "Boston= pd.read_csv(filepath)"
   ]
  },
  {
   "cell_type": "code",
   "execution_count": 33,
   "metadata": {},
   "outputs": [
    {
     "name": "stdout",
     "output_type": "stream",
     "text": [
      "First  10 rows of the dataset:\n",
      "   Unnamed: 0     crim    zn  indus  chas    nox     rm    age     dis  rad  \\\n",
      "0           1  0.00632  18.0   2.31     0  0.538  6.575   65.2  4.0900    1   \n",
      "1           2  0.02731   0.0   7.07     0  0.469  6.421   78.9  4.9671    2   \n",
      "2           3  0.02729   0.0   7.07     0  0.469  7.185   61.1  4.9671    2   \n",
      "3           4  0.03237   0.0   2.18     0  0.458  6.998   45.8  6.0622    3   \n",
      "4           5  0.06905   0.0   2.18     0  0.458  7.147   54.2  6.0622    3   \n",
      "5           6  0.02985   0.0   2.18     0  0.458  6.430   58.7  6.0622    3   \n",
      "6           7  0.08829  12.5   7.87     0  0.524  6.012   66.6  5.5605    5   \n",
      "7           8  0.14455  12.5   7.87     0  0.524  6.172   96.1  5.9505    5   \n",
      "8           9  0.21124  12.5   7.87     0  0.524  5.631  100.0  6.0821    5   \n",
      "9          10  0.17004  12.5   7.87     0  0.524  6.004   85.9  6.5921    5   \n",
      "\n",
      "   tax  ptratio  lstat  medv  \n",
      "0  296     15.3   4.98  24.0  \n",
      "1  242     17.8   9.14  21.6  \n",
      "2  242     17.8   4.03  34.7  \n",
      "3  222     18.7   2.94  33.4  \n",
      "4  222     18.7   5.33  36.2  \n",
      "5  222     18.7   5.21  28.7  \n",
      "6  311     15.2  12.43  22.9  \n",
      "7  311     15.2  19.15  27.1  \n",
      "8  311     15.2  29.93  16.5  \n",
      "9  311     15.2  17.10  18.9  \n",
      "<class 'pandas.core.frame.DataFrame'>\n",
      "RangeIndex: 506 entries, 0 to 505\n",
      "Data columns (total 14 columns):\n",
      " #   Column      Non-Null Count  Dtype  \n",
      "---  ------      --------------  -----  \n",
      " 0   Unnamed: 0  506 non-null    int64  \n",
      " 1   crim        506 non-null    float64\n",
      " 2   zn          506 non-null    float64\n",
      " 3   indus       506 non-null    float64\n",
      " 4   chas        506 non-null    int64  \n",
      " 5   nox         506 non-null    float64\n",
      " 6   rm          506 non-null    float64\n",
      " 7   age         506 non-null    float64\n",
      " 8   dis         506 non-null    float64\n",
      " 9   rad         506 non-null    int64  \n",
      " 10  tax         506 non-null    int64  \n",
      " 11  ptratio     506 non-null    float64\n",
      " 12  lstat       506 non-null    float64\n",
      " 13  medv        506 non-null    float64\n",
      "dtypes: float64(10), int64(4)\n",
      "memory usage: 55.5 KB\n",
      "None\n",
      "       Unnamed: 0        crim          zn       indus        chas         nox  \\\n",
      "count  506.000000  506.000000  506.000000  506.000000  506.000000  506.000000   \n",
      "mean   253.500000    3.613524   11.363636   11.136779    0.069170    0.554695   \n",
      "std    146.213884    8.601545   23.322453    6.860353    0.253994    0.115878   \n",
      "min      1.000000    0.006320    0.000000    0.460000    0.000000    0.385000   \n",
      "25%    127.250000    0.082045    0.000000    5.190000    0.000000    0.449000   \n",
      "50%    253.500000    0.256510    0.000000    9.690000    0.000000    0.538000   \n",
      "75%    379.750000    3.677083   12.500000   18.100000    0.000000    0.624000   \n",
      "max    506.000000   88.976200  100.000000   27.740000    1.000000    0.871000   \n",
      "\n",
      "               rm         age         dis         rad         tax     ptratio  \\\n",
      "count  506.000000  506.000000  506.000000  506.000000  506.000000  506.000000   \n",
      "mean     6.284634   68.574901    3.795043    9.549407  408.237154   18.455534   \n",
      "std      0.702617   28.148861    2.105710    8.707259  168.537116    2.164946   \n",
      "min      3.561000    2.900000    1.129600    1.000000  187.000000   12.600000   \n",
      "25%      5.885500   45.025000    2.100175    4.000000  279.000000   17.400000   \n",
      "50%      6.208500   77.500000    3.207450    5.000000  330.000000   19.050000   \n",
      "75%      6.623500   94.075000    5.188425   24.000000  666.000000   20.200000   \n",
      "max      8.780000  100.000000   12.126500   24.000000  711.000000   22.000000   \n",
      "\n",
      "            lstat        medv  \n",
      "count  506.000000  506.000000  \n",
      "mean    12.653063   22.532806  \n",
      "std      7.141062    9.197104  \n",
      "min      1.730000    5.000000  \n",
      "25%      6.950000   17.025000  \n",
      "50%     11.360000   21.200000  \n",
      "75%     16.955000   25.000000  \n",
      "max     37.970000   50.000000  \n",
      "Unnamed: 0    0\n",
      "crim          0\n",
      "zn            0\n",
      "indus         0\n",
      "chas          0\n",
      "nox           0\n",
      "rm            0\n",
      "age           0\n",
      "dis           0\n",
      "rad           0\n",
      "tax           0\n",
      "ptratio       0\n",
      "lstat         0\n",
      "medv          0\n",
      "dtype: int64\n"
     ]
    }
   ],
   "source": [
    "print(\"First  10 rows of the dataset:\")\n",
    "print(Boston.head(10))\n",
    "print(Boston.info())\n",
    "print(Boston.describe())\n",
    "print(Boston.isnull().sum())"
   ]
  },
  {
   "cell_type": "code",
   "execution_count": 44,
   "metadata": {},
   "outputs": [
    {
     "name": "stdout",
     "output_type": "stream",
     "text": [
      "       Unnamed: 0        crim          zn       indus        chas         nox  \\\n",
      "count  506.000000  506.000000  506.000000  506.000000  506.000000  506.000000   \n",
      "mean   253.500000    3.613524   11.363636   11.136779    0.069170    0.554695   \n",
      "std    146.213884    8.601545   23.322453    6.860353    0.253994    0.115878   \n",
      "min      1.000000    0.006320    0.000000    0.460000    0.000000    0.385000   \n",
      "25%    127.250000    0.082045    0.000000    5.190000    0.000000    0.449000   \n",
      "50%    253.500000    0.256510    0.000000    9.690000    0.000000    0.538000   \n",
      "75%    379.750000    3.677083   12.500000   18.100000    0.000000    0.624000   \n",
      "max    506.000000   88.976200  100.000000   27.740000    1.000000    0.871000   \n",
      "\n",
      "               rm         age         dis         rad         tax     ptratio  \\\n",
      "count  506.000000  506.000000  506.000000  506.000000  506.000000  506.000000   \n",
      "mean     6.284634   68.574901    3.795043    9.549407  408.237154   18.455534   \n",
      "std      0.702617   28.148861    2.105710    8.707259  168.537116    2.164946   \n",
      "min      3.561000    2.900000    1.129600    1.000000  187.000000   12.600000   \n",
      "25%      5.885500   45.025000    2.100175    4.000000  279.000000   17.400000   \n",
      "50%      6.208500   77.500000    3.207450    5.000000  330.000000   19.050000   \n",
      "75%      6.623500   94.075000    5.188425   24.000000  666.000000   20.200000   \n",
      "max      8.780000  100.000000   12.126500   24.000000  711.000000   22.000000   \n",
      "\n",
      "            lstat        medv  \n",
      "count  506.000000  506.000000  \n",
      "mean    12.653063   22.532806  \n",
      "std      7.141062    9.197104  \n",
      "min      1.730000    5.000000  \n",
      "25%      6.950000   17.025000  \n",
      "50%     11.360000   21.200000  \n",
      "75%     16.955000   25.000000  \n",
      "max     37.970000   50.000000  \n",
      "Unnamed: 0    0\n",
      "crim          0\n",
      "zn            0\n",
      "indus         0\n",
      "chas          0\n",
      "nox           0\n",
      "rm            0\n",
      "age           0\n",
      "dis           0\n",
      "rad           0\n",
      "tax           0\n",
      "ptratio       0\n",
      "lstat         0\n",
      "medv          0\n",
      "dtype: int64\n"
     ]
    }
   ],
   "source": [
    "print(Boston.describe())\n",
    "print(Boston.isnull().sum())"
   ]
  },
  {
   "cell_type": "markdown",
   "metadata": {},
   "source": [
    "2. Use the `matplotlab` to plot the two variables/predictors `indus` vs `nox` by the following code:"
   ]
  },
  {
   "cell_type": "code",
   "execution_count": 35,
   "metadata": {},
   "outputs": [
    {
     "data": {
      "image/png": "[encoded data removed]",
      "text/plain": [
       "<Figure size 640x480 with 1 Axes>"
      ]
     },
     "metadata": {},
     "output_type": "display_data"
    }
   ],
   "source": [
    "import matplotlib.pyplot as plt\n",
    "plt.scatter(Boston.loc[:,'indus'], Boston.loc[:,'nox']) # data = pd.read_csv('datasets/boston.csv')\n",
    "plt.show()\n"
   ]
  },
  {
   "cell_type": "markdown",
   "metadata": {},
   "source": [
    "3. Use the `pandas` to list all the variables/predictors (columns)."
   ]
  },
  {
   "cell_type": "code",
   "execution_count": 37,
   "metadata": {},
   "outputs": [
    {
     "name": "stdout",
     "output_type": "stream",
     "text": [
      "Index(['Unnamed: 0', 'crim', 'zn', 'indus', 'chas', 'nox', 'rm', 'age', 'dis',\n",
      "       'rad', 'tax', 'ptratio', 'lstat', 'medv'],\n",
      "      dtype='object')\n"
     ]
    }
   ],
   "source": [
    "variables= Boston.columns\n",
    "print(variables)"
   ]
  },
  {
   "cell_type": "markdown",
   "metadata": {},
   "source": [
    "4. After exploring the dataset, select the `medv` as the response/label 'y' and the rest of the variables as the predictors `X`"
   ]
  },
  {
   "cell_type": "code",
   "execution_count": 40,
   "metadata": {},
   "outputs": [
    {
     "name": "stdout",
     "output_type": "stream",
     "text": [
      "Shape of X (predictors): (506, 13)\n",
      "Shape of y (response/label): (506,)\n"
     ]
    }
   ],
   "source": [
    "y = Boston['medv']\n",
    "X = Boston.drop(columns=['medv'])\n",
    "print(\"Shape of X (predictors):\", X.shape)\n",
    "print(\"Shape of y (response/label):\", y.shape)\n"
   ]
  },
  {
   "cell_type": "markdown",
   "metadata": {},
   "source": [
    "5. Split the dataset into a training set and a testing set. The training set should be 70% of the original dataset and the test set is the rest 30%."
   ]
  },
  {
   "cell_type": "code",
   "execution_count": 42,
   "metadata": {},
   "outputs": [
    {
     "name": "stdout",
     "output_type": "stream",
     "text": [
      "Shape of X_train (training set): (354, 13)\n",
      "Shape of X_test (testing set): (152, 13)\n",
      "Shape of y_train (training labels): (354,)\n",
      "Shape of y_test (testing labels): (152,)\n"
     ]
    }
   ],
   "source": [
    "from sklearn.model_selection import train_test_split\n",
    "import pandas as pd\n",
    "X_train, X_test, y_train, y_test = train_test_split(X, y, test_size=0.3, random_state=42)\n",
    "print(\"Shape of X_train (training set):\", X_train.shape)\n",
    "print(\"Shape of X_test (testing set):\", X_test.shape)\n",
    "print(\"Shape of y_train (training labels):\", y_train.shape)\n",
    "print(\"Shape of y_test (testing labels):\", y_test.shape)\n"
   ]
  },
  {
   "cell_type": "markdown",
   "metadata": {},
   "source": [
    "6. Train a linear regression model on the training set and evaluate its performance on the test set.\n"
   ]
  },
  {
   "cell_type": "code",
   "execution_count": 43,
   "metadata": {},
   "outputs": [
    {
     "data": {
      "text/plain": [
       "21.53892918064354"
      ]
     },
     "execution_count": 43,
     "metadata": {},
     "output_type": "execute_result"
    }
   ],
   "source": [
    "from sklearn.model_selection import train_test_split\n",
    "from sklearn.linear_model import LinearRegression\n",
    "from sklearn.metrics import mean_squared_error\n",
    "X_train, X_test, y_train, y_test = train_test_split(X, y, test_size=0.3, random_state=42)\n",
    "lin_reg = LinearRegression()\n",
    "lin_reg.fit(X_train, y_train)\n",
    "y_pred = lin_reg.predict(X_test)\n",
    "mean_squared_error(y_test, y_pred)\n"
   ]
  }
 ],
 "metadata": {
  "kernelspec": {
   "display_name": "math-499v-599v",
   "language": "python",
   "name": "python3"
  },
  "language_info": {
   "codemirror_mode": {
    "name": "ipython",
    "version": 3
   },
   "file_extension": ".py",
   "mimetype": "text/x-python",
   "name": "python",
   "nbconvert_exporter": "python",
   "pygments_lexer": "ipython3",
   "version": "3.11.7"
  }
 },
 "nbformat": 4,
 "nbformat_minor": 2
}
