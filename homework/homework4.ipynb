{
 "cells": [
  {
   "cell_type": "markdown",
   "metadata": {},
   "source": [
    "Think about CNN and RNN. Can you come up with a new neural network architecture that combines the two? Explain how this new architecture works and why it might be useful.\n",
    "Use keras and MNIST dataset to show the performance of your new architecture.\n"
   ]
  },
  {
   "cell_type": "code",
   "execution_count": 2,
   "metadata": {},
   "outputs": [
    {
     "name": "stdout",
     "output_type": "stream",
     "text": [
      "WARNING:tensorflow:From c:\\Users\\Ashmita\\anaconda3\\envs\\math-499v-599v\\Lib\\site-packages\\keras\\src\\optimizers\\__init__.py:309: The name tf.train.Optimizer is deprecated. Please use tf.compat.v1.train.Optimizer instead.\n",
      "\n",
      "Epoch 1/10\n",
      "WARNING:tensorflow:From c:\\Users\\Ashmita\\anaconda3\\envs\\math-499v-599v\\Lib\\site-packages\\keras\\src\\utils\\tf_utils.py:492: The name tf.ragged.RaggedTensorValue is deprecated. Please use tf.compat.v1.ragged.RaggedTensorValue instead.\n",
      "\n",
      "WARNING:tensorflow:From c:\\Users\\Ashmita\\anaconda3\\envs\\math-499v-599v\\Lib\\site-packages\\keras\\src\\engine\\base_layer_utils.py:384: The name tf.executing_eagerly_outside_functions is deprecated. Please use tf.compat.v1.executing_eagerly_outside_functions instead.\n",
      "\n",
      "938/938 [==============================] - 10s 8ms/step - loss: 0.5186 - accuracy: 0.8433 - val_loss: 0.1635 - val_accuracy: 0.9534\n",
      "Epoch 2/10\n",
      "938/938 [==============================] - 7s 8ms/step - loss: 0.1363 - accuracy: 0.9596 - val_loss: 0.0999 - val_accuracy: 0.9702\n",
      "Epoch 3/10\n",
      "938/938 [==============================] - 8s 8ms/step - loss: 0.0893 - accuracy: 0.9733 - val_loss: 0.0659 - val_accuracy: 0.9805\n",
      "Epoch 4/10\n",
      "938/938 [==============================] - 8s 8ms/step - loss: 0.0705 - accuracy: 0.9792 - val_loss: 0.0577 - val_accuracy: 0.9823\n",
      "Epoch 5/10\n",
      "938/938 [==============================] - 7s 8ms/step - loss: 0.0573 - accuracy: 0.9829 - val_loss: 0.0606 - val_accuracy: 0.9801\n",
      "Epoch 6/10\n",
      "938/938 [==============================] - 7s 8ms/step - loss: 0.0490 - accuracy: 0.9852 - val_loss: 0.0454 - val_accuracy: 0.9856\n",
      "Epoch 7/10\n",
      "938/938 [==============================] - 7s 8ms/step - loss: 0.0437 - accuracy: 0.9868 - val_loss: 0.0405 - val_accuracy: 0.9882\n",
      "Epoch 8/10\n",
      "938/938 [==============================] - 7s 8ms/step - loss: 0.0361 - accuracy: 0.9890 - val_loss: 0.0423 - val_accuracy: 0.9871\n",
      "Epoch 9/10\n",
      "938/938 [==============================] - 7s 7ms/step - loss: 0.0323 - accuracy: 0.9902 - val_loss: 0.0435 - val_accuracy: 0.9868\n",
      "Epoch 10/10\n",
      "938/938 [==============================] - 7s 8ms/step - loss: 0.0301 - accuracy: 0.9905 - val_loss: 0.0345 - val_accuracy: 0.9897\n"
     ]
    },
    {
     "data": {
      "text/plain": [
       "<keras.src.callbacks.History at 0x1a15eb69ad0>"
      ]
     },
     "execution_count": 2,
     "metadata": {},
     "output_type": "execute_result"
    }
   ],
   "source": [
    "from keras.models import Sequential\n",
    "from keras.layers import Dense, Conv2D, MaxPooling2D, Flatten, LSTM, Reshape\n",
    "from keras.datasets import mnist\n",
    "from keras.utils import to_categorical\n",
    "(x_train, y_train), (x_test, y_test) = mnist.load_data()\n",
    "x_train = x_train.reshape(x_train.shape[0], 28, 28, 1).astype('float32') / 255\n",
    "x_test = x_test.reshape(x_test.shape[0], 28, 28, 1).astype('float32') / 255\n",
    "y_train = to_categorical(y_train, 10)\n",
    "y_test = to_categorical(y_test, 10)\n",
    "\n",
    "# Define model\n",
    "model = Sequential([\n",
    "    Conv2D(16, (3, 3), activation='relu', input_shape=(28, 28, 1)),\n",
    "    MaxPooling2D(2, 2),\n",
    "    Reshape((13, 13*16)), \n",
    "    LSTM(32), \n",
    "    Dense(10, activation='softmax')\n",
    "])\n",
    "\n",
    "# Compile model\n",
    "model.compile(optimizer='adam', loss='categorical_crossentropy', metrics=['accuracy'])\n",
    "\n",
    "# Train model\n",
    "model.fit(x_train, y_train, epochs=10, batch_size=64, validation_data=(x_test, y_test))\n"
   ]
  },
  {
   "cell_type": "code",
   "execution_count": null,
   "metadata": {},
   "outputs": [],
   "source": []
  }
 ],
 "metadata": {
  "kernelspec": {
   "display_name": "math-499v-599v",
   "language": "python",
   "name": "python3"
  },
  "language_info": {
   "codemirror_mode": {
    "name": "ipython",
    "version": 3
   },
   "file_extension": ".py",
   "mimetype": "text/x-python",
   "name": "python",
   "nbconvert_exporter": "python",
   "pygments_lexer": "ipython3",
   "version": "3.11.7"
  }
 },
 "nbformat": 4,
 "nbformat_minor": 2
}
