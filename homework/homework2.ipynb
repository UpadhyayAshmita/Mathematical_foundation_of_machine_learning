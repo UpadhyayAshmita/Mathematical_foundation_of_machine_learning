{
 "cells": [
  {
   "cell_type": "markdown",
   "metadata": {},
   "source": [
    "The last question is about the gradient descent of logistic regression.\n",
    "In the gitlab repository, there is a folder code including the gradient descent algorithm for linear regression. The task here is to write the gradient descent algorithm for the logistic regression. Requirement: the function is called LogisticRegression and is implemented in a class with the following structure."
   ]
  },
  {
   "cell_type": "code",
   "execution_count": 2,
   "metadata": {},
   "outputs": [],
   "source": [
    "import numpy as np\n",
    "from sklearn.preprocessing import StandardScaler\n",
    "\n",
    "def sigmoid(z):\n",
    "    return 1 / (1 + np.exp(-z))\n",
    "\n",
    "class LogisticRegression:\n",
    "    def __init__(self, M, N, lr=0.1):\n",
    "        self.M = M\n",
    "        self.N = N\n",
    "        self.lr = lr\n",
    "        self.W = np.zeros((N, 1))\n",
    "        self.b = 0.\n",
    "        self.scaler = StandardScaler()\n",
    "\n",
    "    def fit(self, X, y, epoch=2000, visual=False):\n",
    "        self.scaler.fit(X)\n",
    "        X = self.scaler.transform(X)\n",
    "\n",
    "        # Perform the gradient descent\n",
    "        for i in range(epoch):\n",
    "            y_hat = sigmoid(np.dot(X, self.W) + self.b)\n",
    "            dz = y_hat - y.reshape(-1, 1)\n",
    "            dw = np.dot(X.T, dz) / self.M\n",
    "            db = np.sum(dz) / self.M\n",
    "\n",
    "            self.W -= self.lr * dw\n",
    "            self.b -= self.lr * db\n",
    "\n",
    "            if visual and i % 100 == 0:\n",
    "                loss = self.loss_fcn(X, y)\n",
    "                print(f\"Epoch {i}, Loss: {loss}\")\n",
    "\n",
    "    def predict(self, X_test):\n",
    "        X_test = self.scaler.transform(X_test)\n",
    "        y_hat = sigmoid(np.dot(X_test, self.W) + self.b)\n",
    "        return np.where(y_hat > 0.5, 1, 0)\n",
    "\n",
    "    def loss_fcn(self, X, y):\n",
    "        y_hat = sigmoid(np.dot(X, self.W) + self.b)\n",
    "        return -np.sum(y * np.log(y_hat) + (1 - y) * np.log(1 - y_hat)) / self.M\n"
   ]
  },
  {
   "cell_type": "code",
   "execution_count": null,
   "metadata": {},
   "outputs": [],
   "source": []
  }
 ],
 "metadata": {
  "kernelspec": {
   "display_name": "math-499v-599v",
   "language": "python",
   "name": "python3"
  },
  "language_info": {
   "codemirror_mode": {
    "name": "ipython",
    "version": 3
   },
   "file_extension": ".py",
   "mimetype": "text/x-python",
   "name": "python",
   "nbconvert_exporter": "python",
   "pygments_lexer": "ipython3",
   "version": "3.11.7"
  }
 },
 "nbformat": 4,
 "nbformat_minor": 2
}
