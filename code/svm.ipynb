{
 "cells": [
  {
   "cell_type": "code",
   "execution_count": 21,
   "metadata": {},
   "outputs": [
    {
     "data": {
      "image/png": "[encoded data removed]",
      "text/plain": [
       "<Figure size 640x480 with 1 Axes>"
      ]
     },
     "metadata": {},
     "output_type": "display_data"
    }
   ],
   "source": [
    "from sklearn.cluster import KMeans\n",
    "import matplotlib.pyplot as plt\n",
    "\n",
    "# Load your soil data\n",
    "soil_data = pd.read_csv('../datasets/veris_proj.csv')\n",
    "\n",
    "# Select relevant soil variables\n",
    "X = soil_data[['F3', 'F4', 'F5']]\n",
    "\n",
    "# Calculate WCSS for different values of k\n",
    "wcss = []\n",
    "for k in range(1, 11):\n",
    "    kmeans = KMeans(n_clusters=k, random_state=42)\n",
    "    kmeans.fit(X)\n",
    "    wcss.append(kmeans.inertia_)\n",
    "\n",
    "# Plot the Elbow Method graph\n",
    "plt.plot(range(1, 11), wcss, marker='o')\n",
    "plt.xlabel('Number of Clusters')\n",
    "plt.ylabel('WCSS')\n",
    "plt.title('Elbow Method')\n",
    "plt.show()\n"
   ]
  },
  {
   "cell_type": "code",
   "execution_count": 15,
   "metadata": {},
   "outputs": [],
   "source": [
    "from sklearn.decomposition import PCA\n",
    "from sklearn.cluster import KMeans\n",
    "import matplotlib.pyplot as plt\n",
    "import pandas as pd\n",
    "data = pd.read_csv('../datasets/veris_proj.csv')\n",
    "# Extract features from the dataset\n",
    "X = data[['F3', 'F4', 'F5']]\n",
    "\n",
    "# Create a PCA model with the desired number of components\n",
    "pca = PCA(n_components=2)  \n",
    "\n",
    "# Fit PCA to the data and transform the data to the new feature space\n",
    "reduced_data = pca.fit_transform(X)\n",
    "\n"
   ]
  },
  {
   "cell_type": "code",
   "execution_count": 1,
   "metadata": {},
   "outputs": [
    {
     "ename": "NameError",
     "evalue": "name 'reduced_data' is not defined",
     "output_type": "error",
     "traceback": [
      "\u001b[1;31m---------------------------------------------------------------------------\u001b[0m",
      "\u001b[1;31mNameError\u001b[0m                                 Traceback (most recent call last)",
      "Cell \u001b[1;32mIn[1], line 5\u001b[0m\n\u001b[0;32m      3\u001b[0m \u001b[38;5;66;03m# Fit K-means clustering algorithm to the reduced data\u001b[39;00m\n\u001b[0;32m      4\u001b[0m kmeans \u001b[38;5;241m=\u001b[39m KMeans(n_clusters\u001b[38;5;241m=\u001b[39m\u001b[38;5;241m2\u001b[39m, random_state\u001b[38;5;241m=\u001b[39m\u001b[38;5;241m42\u001b[39m) \n\u001b[1;32m----> 5\u001b[0m kmeans\u001b[38;5;241m.\u001b[39mfit(\u001b[43mreduced_data\u001b[49m)\n\u001b[0;32m      6\u001b[0m cluster_labels \u001b[38;5;241m=\u001b[39m kmeans\u001b[38;5;241m.\u001b[39mlabels_\n\u001b[0;32m      7\u001b[0m \u001b[38;5;66;03m# Visualize the clusters in the reduced feature space\u001b[39;00m\n",
      "\u001b[1;31mNameError\u001b[0m: name 'reduced_data' is not defined"
     ]
    }
   ],
   "source": [
    "\n",
    "from sklearn.cluster import KMeans\n",
    "import matplotlib.pyplot as plt\n",
    "# Fit K-means clustering algorithm to the reduced data\n",
    "kmeans = KMeans(n_clusters=4, random_state=42) \n",
    "kmeans.fit(reduced_data)\n",
    "cluster_labels = kmeans.labels_\n",
    "# Visualize the clusters in the reduced feature space\n",
    "plt.scatter(reduced_data[:, 0], reduced_data[:, 1], c=cluster_labels, cmap='viridis')\n",
    "plt.xlabel('Principal Component 1')\n",
    "plt.ylabel('Principal Component 2')\n",
    "plt.title('Clustering in PCA-reduced Feature Space')\n",
    "plt.colorbar(label='Cluster')\n",
    "plt.show()\n"
   ]
  },
  {
   "cell_type": "code",
   "execution_count": 24,
   "metadata": {},
   "outputs": [
    {
     "name": "stdout",
     "output_type": "stream",
     "text": [
      "Mean values for each cluster:\n",
      "               F3        F4         F5\n",
      "Cluster                               \n",
      "0        5.628403  9.540247  54.683052\n",
      "1        3.744307  7.188985  51.049950\n",
      "2        2.990086  6.170337  54.665392\n",
      "3        1.675626  3.678217  50.862107\n"
     ]
    }
   ],
   "source": [
    "import pandas as pd\n",
    "# Combine the soil data and cluster labels into a single DataFrame\n",
    "soil_with_clusters = pd.DataFrame(data, columns=['F3', 'F4', 'F5'])\n",
    "soil_with_clusters['Cluster'] = cluster_labels\n",
    "\n",
    "# Compute the mean values of EC shallow, EC depth, and elevation for each cluster\n",
    "cluster_means = soil_with_clusters.groupby('Cluster').mean()\n",
    "\n",
    "# Display the mean values for each cluster\n",
    "print(\"Mean values for each cluster:\")\n",
    "print(cluster_means)\n"
   ]
  },
  {
   "cell_type": "code",
   "execution_count": 26,
   "metadata": {},
   "outputs": [
    {
     "name": "stdout",
     "output_type": "stream",
     "text": [
      "          F1         F2    F3    F4      F5  ID              X             Y  \\\n",
      "0 -84.761887  31.184496  10.3  15.9  56.280  13  713276.744997  3.452207e+06   \n",
      "1 -84.761910  31.184556   9.3  15.7  56.557  15  713274.409038  3.452213e+06   \n",
      "2 -84.761918  31.184575   8.5  15.4  56.635  16  713273.544900  3.452215e+06   \n",
      "3 -84.761926  31.184595   7.5  14.6  56.676  17  713272.737728  3.452218e+06   \n",
      "4 -84.761935  31.184615   6.7  13.1  56.746  18  713271.902858  3.452220e+06   \n",
      "\n",
      "  class  \n",
      "0     a  \n",
      "1     a  \n",
      "2     a  \n",
      "3     a  \n",
      "4     a  \n"
     ]
    }
   ],
   "source": [
    "import pandas as pd\n",
    "data['class'] = kmeans.labels_\n",
    "\n",
    "# Map cluster labels to class names\n",
    "class_names = {0: 'a', 1: 'b', 2: 'c', 3: 'd'} \n",
    "\n",
    "# Assign class names based on cluster labels\n",
    "data['class'] = data['class'].map(class_names)\n",
    "\n",
    "print(data.head())"
   ]
  },
  {
   "cell_type": "code",
   "execution_count": 27,
   "metadata": {},
   "outputs": [
    {
     "name": "stdout",
     "output_type": "stream",
     "text": [
      "Class Counts:\n",
      "class\n",
      "c    2552\n",
      "d    2355\n",
      "a    1866\n",
      "b    1616\n",
      "Name: count, dtype: int64\n"
     ]
    }
   ],
   "source": [
    "class_counts = data['class'].value_counts()\n",
    "# Print the counts for each class\n",
    "print(\"Class Counts:\")\n",
    "print(class_counts)"
   ]
  }
 ],
 "metadata": {
  "kernelspec": {
   "display_name": "math-499v-599v",
   "language": "python",
   "name": "python3"
  },
  "language_info": {
   "codemirror_mode": {
    "name": "ipython",
    "version": 3
   },
   "file_extension": ".py",
   "mimetype": "text/x-python",
   "name": "python",
   "nbconvert_exporter": "python",
   "pygments_lexer": "ipython3",
   "version": "3.11.7"
  }
 },
 "nbformat": 4,
 "nbformat_minor": 2
}
