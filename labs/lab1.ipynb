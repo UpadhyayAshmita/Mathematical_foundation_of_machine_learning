{
 "cells": [
  {
   "cell_type": "markdown",
   "id": "55fecf85-e117-484c-b0e5-7844d582320c",
   "metadata": {},
   "source": [
    "# 1. Python Basic\n",
    "An interpreted, object-oriented, high-level programming language with dynamic semantics\n",
    "\n",
    "Interpreted vs Compiler language\n",
    "\n",
    "Object-oriented vs Procedural programming\n",
    "\n",
    "High-level vs Lower-level language\n",
    "\n",
    "It is simple and easy to learn and provides lots of high-level data structures. Python is easy to learn yet powerful and versatile scripting language which makes it attractive for Application Development. Python is not intended to work on special area. It is dynamically typed.\n",
    "\n",
    "1) Easy to Learn and Use\n",
    "\n",
    "2) Expressive Language\n",
    "\n",
    "3) Interpreted Language\n",
    "\n",
    "4) Cross-platform Language\n",
    "\n",
    "5) Free and Open Source\n",
    "\n",
    "6) Object-oriented Language\n",
    "\n",
    "7) Extensible and Integrated\n",
    "\n",
    "It can be easily integrated with other languages like C/C++, JAVA, fortran, etc. and compile these languages\n",
    "\n",
    "8) Large Standard Libary\n",
    "\n",
    "## Python History\n",
    "founded in the late 1980s by Guida Van Rossum at CWI in Netherland. Python 1.0 was released in 1994, Python 2.0 was released in 2000, and Python 3.0 was released in 2008."
   ]
  },
  {
   "cell_type": "markdown",
   "id": "2d64268e-6041-4780-a7b4-b35d459f4f14",
   "metadata": {},
   "source": [
    "In this lab, we will go through the Python functions and packages that we discussed during the lecture. But first, always make sure that you can run Python either on your laptop or servers. \n",
    "1. Change the variable `my_name` to `{firstname_lastname}`\n",
    "2. Run the following block and find the output file\n",
    "3. Upload it to Blackboard"
   ]
  },
  {
   "cell_type": "code",
   "execution_count": 9,
   "id": "822e2f2a-6863-4075-bfd7-a285445001a0",
   "metadata": {},
   "outputs": [
    {
     "name": "stdout",
     "output_type": "stream",
     "text": [
      "Folder 'lab1' already exists at '.'\n",
      "Memory: 16.0 GB\n"
     ]
    }
   ],
   "source": [
    "import platform, os, sys, getpass, psutil\n",
    "# create a folder, lab1\n",
    "full_path = '.'\n",
    "folder_name = 'lab1'\n",
    "# Create the folder if it doesn't exist\n",
    "if not os.path.exists(folder_name):\n",
    "    os.makedirs(folder_name)\n",
    "    print(f\"Folder '{folder_name}' created at '{full_path}'\")\n",
    "else:\n",
    "    print(f\"Folder '{folder_name}' already exists at '{full_path}'\")\n",
    "my_name = ''\n",
    "fp = open(my_name+'_cpu.txt', 'w')\n",
    "fp.write('Platform:' + platform.platform())\n",
    "fp.write('OS:' + os.name)\n",
    "fp.write('Environment:'+ sys.executable)\n",
    "fp.write('CPU:' + platform.processor())\n",
    "print('Memory:', str(psutil.virtual_memory().total / (1024.0 ** 3)), 'GB')\n",
    "fp.write('Memory:' + str(psutil.virtual_memory().total / (1024.0 ** 3)) + 'GB')\n",
    "fp.write('Username:' + getpass.getuser())\n",
    "fp.close()"
   ]
  },
  {
   "cell_type": "markdown",
   "id": "eaf3360c-ec98-46f7-bf16-424da0985519",
   "metadata": {},
   "source": [
    "## Conda for Creating and Managing Python Environments\n",
    "\n",
    "Conda is a popular package and environment management system used in the Python ecosystem. It allows users to easily create, manage, and switch between different Python environments, each with their own specific version of Python and set of libraries. This is particularly useful when working on multiple projects with differing dependencies. "
   ]
  },
  {
   "cell_type": "markdown",
   "id": "0fca2e6f-762e-45ab-a389-4de3d2ba6748",
   "metadata": {},
   "source": [
    "## 1.1 Creating and Managing Python Environments with Conda\n",
    "\n",
    "**Installation**:\n",
    "- First, you need to install Conda. Anaconda or Miniconda are popular choices. Anaconda comes with a collection of scientific packages pre-installed, while Miniconda is a minimal installer.\n",
    "\n",
    "**NOTE:** To make sure you have Conda installed, run the following command in your terminal for Mac and your PowerShell for Windows:\n",
    "\n",
    "```bash\n",
    "conda --version\n",
    "```"
   ]
  },
  {
   "cell_type": "markdown",
   "id": "9e1f9816-0162-4703-a1df-611110621832",
   "metadata": {},
   "source": [
    "**Creating a New Environment**:\n",
    "1. **Create an Environment**: To create a new environment, use the following command:\n",
    "   ```bash\n",
    "   conda create --name myenv python=3.11\n",
    "   ```\n",
    "   Here, `myenv` is the name of your new environment. You can specify the Python version by adding `python=x.x` (e.g., `python=3.11`).\n",
    "\n",
    "2. **Activate the Environment**: To start using this environment, you need to activate it:\n",
    "   ```bash\n",
    "   conda activate myenv\n",
    "   ```\n",
    "\n",
    "3. **Install Packages**: Once the environment is activated, install packages using:\n",
    "   ```bash\n",
    "   conda install numpy\n",
    "   pip install jupyterlab # you can also use pip to install packages under this environment\n",
    "   ```\n",
    "   Replace `numpy` with the name of any package you wish to install."
   ]
  },
  {
   "cell_type": "markdown",
   "id": "da9cee71-1067-4f98-8b25-f99a5c79bbb4",
   "metadata": {},
   "source": [
    "**Managing Environments**:\n",
    "1. **List Environments**: To see a list of all your environments, use:\n",
    "   ```bash\n",
    "   conda env list\n",
    "   ```\n",
    "\n",
    "2. **Deactivate Environment**: To stop using an environment, simply deactivate it:\n",
    "   ```bash\n",
    "   conda deactivate\n",
    "   ```\n",
    "\n",
    "3. **Remove an Environment**: If you no longer need an environment, you can remove it:\n",
    "   ```bash\n",
    "   conda remove --name myenv --all\n",
    "   ```"
   ]
  },
  {
   "cell_type": "markdown",
   "id": "a4472b5c-096f-4c87-b523-796b0cd6d1d3",
   "metadata": {},
   "source": [
    "**Exporting and Replicating Environments**:\n",
    "1. **Export Environment**: To share your environment or replicate it on another machine, export it to a YAML file:\n",
    "   ```bash\n",
    "   conda env export > environment.yml\n",
    "   ```\n",
    "   This creates a file `environment.yml` with all the details of your environment.\n",
    "\n",
    "2. **Create Environment from YAML File**: To create an environment from an exported YAML file, use:\n",
    "   ```bash\n",
    "   conda env create -f environment.yml\n",
    "   ```"
   ]
  },
  {
   "cell_type": "markdown",
   "id": "0a1dd6ea-181b-409d-9025-8bdce935af7b",
   "metadata": {},
   "source": [
    "Using Conda for environment management ensures that you have a consistent, isolated workspace for your Python projects, avoiding conflicts between project dependencies and making it easier to manage project-specific requirements."
   ]
  },
  {
   "cell_type": "markdown",
   "id": "f235c559-5b89-45c2-a5ec-86b8985dbbda",
   "metadata": {},
   "source": [
    "## Task 1: Create the Environment for this Course\n",
    "\n",
    "### Step 1: Create the Environment\n",
    "Open your terminal or command prompt and run the following command to create an environment named `math-499v-599v` with Python 3.11:\n",
    "\n",
    "```bash\n",
    "conda create --name math-499v-599v python=3.11\n",
    "```\n",
    "\n",
    "### Step 2: Activate the Environment\n",
    "Once the environment is created, you need to activate it. Do this with the command:\n",
    "\n",
    "```bash\n",
    "conda activate math-499v-599v\n",
    "```\n",
    "\n",
    "### Step 3: Install Packages using pip\n",
    "After activating the environment, you can install the required packages. Since you specified using pip, you can do this as follows:\n",
    "\n",
    "```bash\n",
    "pip install numpy jupyterlab scikit-learn scipy matplotlib tensorflow pandas\n",
    "```\n",
    "\n",
    "This command will install `numpy`, `jupyterlab`, `scikit-learn` (commonly referred to as `sklearn`), `scipy`, `matplotlib`, `tensorflow`, and `pandas`.\n",
    "\n",
    "### Step 4: Export Environment\n",
    "To share your environment or replicate it on another machine, export it to a YAML file:\n",
    "```bash\n",
    "conda env export > lab1/mfml-env.yml\n",
    "```\n",
    "This creates a file `mfml-env.yml` with all the details of your environment.\n",
    "In your repository, under `labs/` create a new folder `lab1` and move the `.yml` file to that folder.\n",
    "\n",
    "### Additional Notes\n",
    "- **JupyterLab**: Once JupyterLab is installed, you can run it using the command `jupyter lab`. It will open in your default web browser.\n",
    "- **TensorFlow**: Make sure your system meets the requirements for TensorFlow, especially if you are planning to use GPU acceleration.\n",
    "- **Matplotlib**: The correct spelling is `matplotlib` (not `matplotlab`). The above command takes this into account.\n",
    "- **Conda vs. pip**: While you're using pip here as per the task, remember that Conda can also directly install many of these packages, and sometimes it's beneficial to use Conda for certain complex packages, especially those that require specific binary dependencies.\n",
    "\n",
    "This setup should now have your `math-499v-599v` environment ready with all the specified Python packages, ideal for a variety of mathematical and data science applications."
   ]
  },
  {
   "cell_type": "markdown",
   "id": "0a176f83-d5a6-40b9-9fed-effe854f9839",
   "metadata": {},
   "source": [
    "## 1.2 Task 2: Simple Data Analysis Tool\n",
    "### Objective\n",
    "Create a Python script that performs basic data analysis on a list of numbers. The script should:\n",
    "1. Read numbers from a file.\n",
    "2. Perform analysis to find the maximum, minimum, average, and range.\n",
    "3. Identify if there are any repeated numbers and count them.\n",
    "4. Print the results in a formatted manner.\n",
    "### Steps to Follow\n",
    "1. Generate a Data File Using the package `random`:\n",
    "    - Import the package\n",
    "    - Use the function `open()` to open a file named `lab1/data.txt` in the write mode. Make sure the folder `lab1` is created\n",
    "    - Write a `for-loop` for 200 iterations\n",
    "    - In each iteration, use `random.randint(-2000, 2000)` to generate a random number within the range of [-2000, 2000], and append `'\\n'` to ensure each number is placed on a separate line.\n",
    "2. Read Data from File:\n",
    "   - Use `open()` to read from `data.txt`\n",
    "   - Convert the string of numbers into a list of integers\n",
    "3. Data Analysis:\n",
    "   - Find the maximum and minimum values using `max()` and `min()`\n",
    "   - Calculate the average (mean) of the numbers\n",
    "   - Determine the range (max - min) of the numbers\n",
    "   - Use `abs()` to report the absolute value of the largest negative number (if any)\n",
    "   - Identify if there are repeated numbers and count them using `dict()`\n",
    "4. Display Results:\n",
    "   - Use `print()` to display results\n",
    "   - Format the output to be user-friendly\n",
    "5. Additional Challenge (Optional):\n",
    "   - Use `enumerate()` in any part of your code where it might be useful\n",
    "   - Implement error handling for file reading and data conversion"
   ]
  },
  {
   "cell_type": "markdown",
   "id": "7b887529-adf7-49f6-b83c-66378eccd3ad",
   "metadata": {},
   "source": [
    "Example of what your script might look like:\n",
    "``` python\n",
    "import random\n",
    "\n",
    "def write_data(filename, number_iterations, lower_bond, upper_bond):\n",
    "    fp = open(filenmae, 'w')\n",
    "    for i in range(number_iterations):\n",
    "        my_random_number = random.randint(lower_bond, upper_bond)\n",
    "        fp.write(str(my_random_number)+'\\n')\n",
    "    fp.close()\n",
    "    return\n",
    "    \n",
    "def read_data(filename):\n",
    "    with open(filename, 'r') as file:\n",
    "        data = file.read() # lines = file.readline(), for line in file:\n",
    "    return [int(x) for x in data.split('\\n')] # re.split(), \n",
    "\n",
    "def analyze_data(numbers):\n",
    "    max_val = max(numbers)\n",
    "    min_val = min(numbers)\n",
    "    average = sum(numbers) / len(numbers)\n",
    "    num_range = max_val - min_val\n",
    "    largest_negative = min([abs(n) for n in numbers if n < 0], default=0)\n",
    "\n",
    "    count_repeats = {}\n",
    "    for num in numbers:\n",
    "        if num in count_repeats:\n",
    "            count_repeats[num] += 1\n",
    "        else:\n",
    "            count_repeats[num] = 1\n",
    "\n",
    "    repeats = {k: v for k, v in count_repeats.items() if v > 1}\n",
    "    return max_val, min_val, average, num_range, largest_negative, repeats\n",
    "\n",
    "def main():\n",
    "    try:\n",
    "        write_data('lab1/data.txt')\n",
    "        numbers = read_data('lab1/data.txt')\n",
    "        max_val, min_val, average, num_range, largest_negative, repeats = analyze_data(numbers)\n",
    "        \n",
    "        print(f\"Maximum Value: {max_val}\")\n",
    "        print(f\"Minimum Value: {min_val}\")\n",
    "        print(f\"Average: {average:.2f}\")\n",
    "        print(f\"Range: {num_range}\")\n",
    "        print(f\"Largest Negative Number (absolute): {largest_negative}\")\n",
    "        if repeats:\n",
    "            print(\"Repeated Numbers:\")\n",
    "            for num, count in repeats.items():\n",
    "                print(f\"Number {num} repeats {count} times.\")\n",
    "        else:\n",
    "            print(\"No repeated numbers.\")\n",
    "    except Exception as e:\n",
    "        print(f\"An error occurred: {e}\")\n",
    "\n",
    "if __name__ == \"__main__\":\n",
    "    main()\n",
    "```"
   ]
  },
  {
   "cell_type": "code",
   "execution_count": 11,
   "id": "3fb7ffe7-b50b-48ed-bd56-d924a32528dc",
   "metadata": {},
   "outputs": [
    {
     "name": "stdout",
     "output_type": "stream",
     "text": [
      "a\n",
      "b\n",
      "c\n",
      "d\n",
      "0 a\n",
      "1 b\n",
      "2 c\n",
      "3 d\n"
     ]
    }
   ],
   "source": [
    "# enumerate() for loops\n",
    "lists = ['a', 'b', 'c', 'd']\n",
    "for letter in lists:\n",
    "    print(letter)\n",
    "for idx, letter in enumerate(lists):\n",
    "    print(idx, letter)"
   ]
  },
  {
   "cell_type": "code",
   "execution_count": null,
   "id": "5471d411-9ae6-4014-b529-6f0bab8d92ed",
   "metadata": {},
   "outputs": [],
   "source": []
  }
 ],
 "metadata": {
  "kernelspec": {
   "display_name": "Python 3 (ipykernel)",
   "language": "python",
   "name": "python3"
  },
  "language_info": {
   "codemirror_mode": {
    "name": "ipython",
    "version": 3
   },
   "file_extension": ".py",
   "mimetype": "text/x-python",
   "name": "python",
   "nbconvert_exporter": "python",
   "pygments_lexer": "ipython3",
   "version": "3.11.7"
  }
 },
 "nbformat": 4,
 "nbformat_minor": 5
}
