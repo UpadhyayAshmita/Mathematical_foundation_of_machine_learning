{
 "cells": [
  {
   "cell_type": "markdown",
   "id": "5080f7be-69e6-467f-a5f6-89840f039896",
   "metadata": {},
   "source": [
    "# 5. Decision Trees\n",
    "In this lab, we will learn a popular machine learning algorithm, Decision Trees. \n",
    "We will show how to use Decision Trees to do classification tasks on the Digits Dataset.\n",
    "The first showcase is to call the sklearn library to do the classification task on the Digits Dataset.\n",
    "Then we will code the Decision Trees from scratch to understand how it works under the hood.\n",
    "Lastly, to wrap up this lab, you need to convert the code into a regression task on the airfoil dataset.\n",
    "This lab is due by the end of this week Mar 15."
   ]
  },
  {
   "cell_type": "markdown",
   "id": "21abcda9-4765-4ccd-8c8c-cebb80d5debf",
   "metadata": {},
   "source": [
    "## 5.1 Classification Task on Digits Dataset\n",
    "The Digits dataset is a dataset of handwritten digits. Each feature is the intensity of one pixel of an 8 x 8 image. The target is the digit itself. We will use the Decision Trees to classify the digits.\n"
   ]
  },
  {
   "cell_type": "code",
   "execution_count": 1,
   "id": "8fe28989-2a43-45c5-9dcd-680f23b940fe",
   "metadata": {},
   "outputs": [],
   "source": [
    "import pandas as pd\n",
    "\n",
    "X_train = pd.read_csv('../datasets/digits/Digits_X_train.csv').values\n",
    "y_train = pd.read_csv('../datasets/digits/Digits_y_train.csv').values\n",
    "X_test  = pd.read_csv('../datasets/digits/Digits_X_test.csv').values\n",
    "y_test  = pd.read_csv('../datasets/digits/Digits_y_test.csv').values"
   ]
  },
  {
   "cell_type": "markdown",
   "id": "de0456b4-13cc-4c70-bfb5-2119561c8b73",
   "metadata": {},
   "source": [
    "Note that each data can be reshaped into an 8 x 8 image and visualized using the following code.\n"
   ]
  },
  {
   "cell_type": "code",
   "execution_count": 2,
   "id": "87a1cf17-32e1-44e8-b089-03b001a698fa",
   "metadata": {},
   "outputs": [
    {
     "data": {
      "image/png": "[encoded data removed]",
      "text/plain": [
       "<Figure size 640x480 with 1 Axes>"
      ]
     },
     "metadata": {},
     "output_type": "display_data"
    }
   ],
   "source": [
    "import matplotlib.pyplot as plt\n",
    "\n",
    "plt.imshow(X_train[0].reshape(8, 8), cmap='gray')\n",
    "plt.show()"
   ]
  },
  {
   "cell_type": "markdown",
   "id": "79b6ef7e-c985-45c6-8e26-edcb387371ea",
   "metadata": {},
   "source": [
    "Now, let's use the Decision Trees to classify the digits."
   ]
  },
  {
   "cell_type": "code",
   "execution_count": 3,
   "id": "abb29392-4ce4-42a2-ab69-922f6c09f29a",
   "metadata": {},
   "outputs": [
    {
     "name": "stdout",
     "output_type": "stream",
     "text": [
      "0.8622222222222222\n"
     ]
    }
   ],
   "source": [
    "from sklearn.tree import DecisionTreeClassifier\n",
    "from sklearn.metrics import accuracy_score\n",
    "\n",
    "DT = DecisionTreeClassifier()\n",
    "DT.fit(X_train, y_train)\n",
    "\n",
    "y_pred = DT.predict(X_test)\n",
    "print(accuracy_score(y_test, y_pred))"
   ]
  },
  {
   "cell_type": "markdown",
   "id": "6d99368a-8ccf-48cc-aebe-154335fa3341",
   "metadata": {},
   "source": [
    "## 5.2 Decision Trees from Scratch\n",
    "Here, we will only use numpy to code the Decision Trees from scratch. "
   ]
  },
  {
   "cell_type": "code",
   "execution_count": 4,
   "id": "9c92ec81-5f23-4b1f-b74c-7929d4ae646a",
   "metadata": {},
   "outputs": [],
   "source": [
    "import numpy as np\n",
    "\n",
    "# define the accuracy function\n",
    "def accuracy(ypred, ytrue):\n",
    "    return np.sum(ypred==ytrue)/float(len(ypred))"
   ]
  },
  {
   "cell_type": "markdown",
   "id": "e497e49f-0ca9-4402-bfb3-3e3296500f03",
   "metadata": {},
   "source": [
    "Now, this is the object of the Decision Trees."
   ]
  },
  {
   "cell_type": "code",
   "execution_count": 7,
   "id": "aa06117c-9264-4c25-ad33-eb96d998b219",
   "metadata": {},
   "outputs": [],
   "source": [
    "class decisiontree():\n",
    "    def __init__(self, max_depth=5, current_depth=0, max_features=None):\n",
    "        # tree structure value\n",
    "        self.left_tree = None\n",
    "        self.right_tree = None\n",
    "        self.max_depth = max_depth\n",
    "        self.current_depth = current_depth\n",
    "\n",
    "        self.best_feature_id = 0.\n",
    "        self.best_gain = 0.\n",
    "        self.best_split_value = 0.\n",
    "        self.GINI = 0.\n",
    "        self.label = None\n",
    "\n",
    "        # feature values\n",
    "        self.X = None\n",
    "        self.y = None\n",
    "        self.M = 0\n",
    "        self.N = 0\n",
    "\n",
    "        self.max_features = max_features\n",
    "\n",
    "    def fit(self, X, y):\n",
    "        self.X = X\n",
    "        self.y = y\n",
    "        self.M = X.shape[0]\n",
    "        self.N = X.shape[1]\n",
    "\n",
    "        if self.max_features==None or self.max_features>self.N:\n",
    "            self.max_features = self.N\n",
    "        if self.current_depth < self.max_depth:\n",
    "            self.GINI = self.GINI_calculation(self.y)\n",
    "            self.best_feature_id, self.best_gain, self.best_split_value = self.find_best_split()\n",
    "            if self.best_gain > 0.:\n",
    "                self.split_trees()\n",
    "\n",
    "    def split_trees(self):\n",
    "        self.left_tree = decisiontree(max_depth=self.max_depth, current_depth=self.current_depth+1)\n",
    "        self.right_tree = decisiontree(max_depth=self.max_depth, current_depth=self.current_depth+1)\n",
    "        best_feature_values = self.X[:, self.best_feature_id]\n",
    "        left_indices = np.where(best_feature_values < self.best_split_value)\n",
    "        right_indices = np.where(best_feature_values >= self.best_split_value)\n",
    "\n",
    "        left_tree_X = self.X[left_indices]\n",
    "        left_tree_y = self.y[left_indices]\n",
    "        right_tree_X = self.X[right_indices]\n",
    "        right_tree_y = self.y[right_indices]\n",
    "\n",
    "        self.left_tree.fit(left_tree_X, left_tree_y)\n",
    "        self.right_tree.fit(right_tree_X, right_tree_y)\n",
    "\n",
    "    def GINI_calculation(self, y):\n",
    "        if y.size==0 or y is None:\n",
    "            return 0.\n",
    "        unique, counts = np.unique(y, return_counts=True)\n",
    "        prob = counts/y.size\n",
    "        return 1.-np.sum(prob*prob)\n",
    "\n",
    "    def find_best_split(self):\n",
    "        best_feature_id  = None\n",
    "        best_gain        = 0.\n",
    "        best_split_value = None\n",
    "        n_features = np.random.choice(self.N, self.max_features, replace=False)\n",
    "        for feature_id in n_features:\n",
    "            current_gain, current_split_value = self.find_best_split_one_feature(feature_id)\n",
    "            if best_gain < current_gain:\n",
    "                best_feature_id = feature_id\n",
    "                best_gain = current_gain\n",
    "                best_split_value = current_split_value\n",
    "        return best_feature_id, best_gain, best_split_value\n",
    "\n",
    "    def find_best_split_one_feature(self, feature_id):\n",
    "        feature_values = self.X[:, feature_id]\n",
    "        unique_feature_values = np.unique(feature_values)\n",
    "        best_gain = 0.\n",
    "        best_split_value = None\n",
    "\n",
    "        if len(unique_feature_values) == 1:\n",
    "            return best_gain, best_split_value\n",
    "        for fea_val in unique_feature_values:\n",
    "            left_indices = np.where(feature_values < fea_val)\n",
    "            right_indices = np.where(feature_values >= fea_val)\n",
    "\n",
    "            left_tree_X = self.X[left_indices]\n",
    "            left_tree_y = self.y[left_indices]\n",
    "\n",
    "            right_tree_X = self.X[right_indices]\n",
    "            right_tree_y = self.y[right_indices]\n",
    "\n",
    "            left_GINI = self.GINI_calculation(left_tree_y)\n",
    "            right_GINI = self.GINI_calculation(right_tree_y)\n",
    "\n",
    "            left_n = left_tree_X.shape[0]\n",
    "            right_n = right_tree_X.shape[0]\n",
    "\n",
    "            current_gain = self.GINI-left_n/self.M*left_GINI-right_n/self.M*right_GINI\n",
    "            if best_gain < current_gain:\n",
    "                best_gain = current_gain\n",
    "                best_split_value = fea_val\n",
    "        return best_gain, best_split_value\n",
    "\n",
    "    def predict(self, X_test):\n",
    "        n_test = X_test.shape[0]\n",
    "        y_pred = np.empty(n_test, dtype=int)\n",
    "        for i in range(n_test):\n",
    "            y_pred[i] = self.tree_propogation(X_test[i])\n",
    "        return y_pred\n",
    "\n",
    "    def tree_propogation(self, feature):\n",
    "        # this is a leaf\n",
    "        if self.left_tree is None:\n",
    "            return self.predict_label()\n",
    "        # belongs to the left tree\n",
    "        if feature[self.best_feature_id] < self.best_split_value:\n",
    "            return self.left_tree.tree_propogation(feature)\n",
    "        # belongs to the right tree\n",
    "        else:\n",
    "            return self.right_tree.tree_propogation(feature)\n",
    "\n",
    "    def predict_label(self):\n",
    "        if self.label != None:\n",
    "            return self.label\n",
    "        unique, counts = np.unique(self.y, return_counts=True)\n",
    "        max_count = 0\n",
    "        #idx = np.argmax(counts)\n",
    "        #self.label = unique[idx]\n",
    "        for i in range(unique.size):\n",
    "            if counts[i] > max_count:\n",
    "                max_count = counts[i]\n",
    "                self.label = unique[i]\n",
    "        return self.label"
   ]
  },
  {
   "cell_type": "markdown",
   "id": "7829085c-b119-4df0-9c89-871ef31632c5",
   "metadata": {},
   "source": [
    "Now, let's use the Decision Trees to classify the digits."
   ]
  },
  {
   "cell_type": "code",
   "execution_count": 13,
   "id": "c7ad3a47-82d2-40ab-b4d0-a9b39e5a3d23",
   "metadata": {},
   "outputs": [
    {
     "name": "stdout",
     "output_type": "stream",
     "text": [
      "0.6622222222222223\n"
     ]
    }
   ],
   "source": [
    "DT = decisiontree(max_depth=5)\n",
    "DT.fit(X_train, y_train)\n",
    "\n",
    "y_pred = DT.predict(X_test)\n",
    "print(accuracy(y_pred, y_test.ravel()))"
   ]
  },
  {
   "cell_type": "markdown",
   "id": "27be3fa5-3f57-48b9-bc25-e9f50d201b90",
   "metadata": {},
   "source": [
    "## 5.3 Regression Task on Airfoil Dataset\n",
    "The Airfoil dataset is a dataset of airfoil self-noise. Each feature is a physical attribute of the airfoil. The target is the scaled sound pressure level. We will use the Decision Trees to do the regression task on the Airfoil dataset."
   ]
  },
  {
   "cell_type": "code",
   "execution_count": null,
   "id": "0916a24c-21d9-464d-a0e9-982355da9b2a",
   "metadata": {},
   "outputs": [],
   "source": [
    "import pandas as pd\n",
    "\n",
    "X_train = pd.read_csv('../datasets/airfoil/airfoil_self_noise_X_train.csv').values\n",
    "y_train = pd.read_csv('../datasets/airfoil/airfoil_self_noise_y_train.csv').values\n",
    "X_test  = pd.read_csv('../datasets/airfoil/airfoil_self_noise_X_test.csv').values\n",
    "y_test  = pd.read_csv('../datasets/airfoil/airfoil_self_noise_y_test.csv').values"
   ]
  },
  {
   "cell_type": "markdown",
   "id": "6e70ad75-219f-4331-86f8-82acd4c86635",
   "metadata": {},
   "source": [
    "Now, think about how to convert the classification task into a regression task. You need to modify the code in 5.2 to do the regression task on the Airfoil dataset. Using the following to test. This will be a hard one!\n"
   ]
  },
  {
   "cell_type": "code",
   "execution_count": null,
   "id": "ac575977-ec66-474e-8450-7f3a43b4d2f0",
   "metadata": {},
   "outputs": [],
   "source": [
    "def RMSE(ypred, ytrue):\n",
    "    return np.sqrt(np.sum((ypred-ytrue)**2)/ypred.shape[0])\n",
    "\n",
    "class decisiontree():\n",
    "    def __init__(self, max_depth=5, current_depth=0, max_features=None):\n",
    "        \"\"\"\n",
    "        your code starts ...\n",
    "        \"\"\""
   ]
  },
  {
   "cell_type": "code",
   "execution_count": null,
   "id": "b057004c-7953-4afb-944a-0015bdc6866c",
   "metadata": {},
   "outputs": [],
   "source": [
    "#DT = decisiontree()\n",
    "DT = decisiontree(max_depth=25)\n",
    "DT.fit(X_train, y_train)\n",
    "\n",
    "y_pred = DT.predict(X_test)\n",
    "print(RMSE(y_pred, y_test.ravel()))\n",
    "\n",
    "from sklearn.tree import DecisionTreeRegressor\n",
    "skDT = DecisionTreeRegressor()\n",
    "skDT.fit(X_train, y_train)\n",
    "y_pred = skDT.predict(X_test)\n",
    "print(RMSE(y_pred, y_test.ravel()))"
   ]
  },
  {
   "cell_type": "markdown",
   "id": "1ea6e885-933b-4b2e-a481-007884bf59d0",
   "metadata": {},
   "source": [
    "To submit this lab, you need to work on this jupyter notebook directly and submit this file to your repo.\n"
   ]
  }
 ],
 "metadata": {
  "kernelspec": {
   "display_name": "Python 3 (ipykernel)",
   "language": "python",
   "name": "python3"
  },
  "language_info": {
   "codemirror_mode": {
    "name": "ipython",
    "version": 3
   },
   "file_extension": ".py",
   "mimetype": "text/x-python",
   "name": "python",
   "nbconvert_exporter": "python",
   "pygments_lexer": "ipython3",
   "version": "3.11.5"
  }
 },
 "nbformat": 4,
 "nbformat_minor": 5
}
