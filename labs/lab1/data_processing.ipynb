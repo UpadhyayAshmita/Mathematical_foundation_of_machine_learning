{
 "cells": [
  {
   "cell_type": "code",
   "execution_count": 21,
   "metadata": {},
   "outputs": [],
   "source": [
    "import platform, os, sys, getpass, psutil\n",
    "\n",
    "# create a folder, lab1\n",
    "'''full_path = '.'\n",
    "folder_name = 'lab1'\n",
    "# Create the folder if it doesn't exist\n",
    "if not os.path.exists(folder_name):\n",
    "    os.makedirs(folder_name, exist_ok= True)\n",
    "    print(f\"Folder '{folder_name}' created at '{full_path}'\")\n",
    "else:\n",
    "    print(f\"Folder '{folder_name}' already exists at '{full_path}'\")'''\n",
    "my_name = 'Ashmita_Upadhyay'\n",
    "fp = open(my_name +'_cpu.txt', 'w')\n",
    "fp.write(f'Platform: {platform.platform()}\\n')\n",
    "fp.write(f'OS: {os.name}\\n')\n",
    "fp.write(f'Environment: {sys.executable}\\n')\n",
    "fp.write(f'CPU: {platform.processor()}\\n')\n",
    "fp.write(f'Memory: {psutil.virtual_memory().total / (1024.0 ** 3)} GB\\n')\n",
    "fp.write(f'Username: {getpass.getuser()}\\n')\n",
    "fp.close()"
   ]
  },
  {
   "cell_type": "code",
   "execution_count": 18,
   "metadata": {},
   "outputs": [],
   "source": [
    "import os\n",
    "import random\n",
    "\n",
    "def write_data(filename, number_iterations, lower_bond, upper_bond):\n",
    "    fp = open(filename, 'w+')\n",
    "    for i in range(number_iterations):\n",
    "        my_random_number = random.randint(lower_bond, upper_bond)\n",
    "        fp.write(str(my_random_number)+'\\\\n')\n",
    "    fp.close()\n",
    "    return\n"
   ]
  },
  {
   "cell_type": "markdown",
   "metadata": {},
   "source": [
    "Calling function to write data "
   ]
  },
  {
   "cell_type": "code",
   "execution_count": 8,
   "metadata": {},
   "outputs": [],
   "source": [
    "write_data('data.txt',200, -2000, +2000)"
   ]
  },
  {
   "cell_type": "markdown",
   "metadata": {},
   "source": [
    "Implementing error handling for file reading"
   ]
  },
  {
   "cell_type": "code",
   "execution_count": 9,
   "metadata": {},
   "outputs": [],
   "source": [
    "def read_data(filename):\n",
    "    try:\n",
    "        with open(filename, 'r') as file:\n",
    "            data = file.read()\n",
    "        return [int(x) for x in data.split('\\\\n') if x]   # Convert each string to integer\n",
    "    except Exception as e:\n",
    "        print(f\"An error occurred: {e}\")\n"
   ]
  },
  {
   "cell_type": "code",
   "execution_count": 10,
   "metadata": {},
   "outputs": [],
   "source": [
    "numbers= read_data('data.txt')"
   ]
  },
  {
   "cell_type": "code",
   "execution_count": 11,
   "metadata": {},
   "outputs": [],
   "source": [
    "def analyze_data(numbers):\n",
    "    max_val = max(numbers)\n",
    "    min_val = min(numbers)\n",
    "    average = sum(numbers) / len(numbers)\n",
    "    num_range = max_val - min_val\n",
    "    largest_negative = min([abs(n) for n in numbers if n < 0], default=0)\n",
    "    count_repeats = {}\n",
    "    for num in numbers:\n",
    "        if num in count_repeats:\n",
    "            count_repeats[num] += 1\n",
    "        else:\n",
    "            count_repeats[num] = 1\n",
    "\n",
    "    repeats = {k: v for k, v in count_repeats.items() if v > 1}\n",
    "    return max_val, min_val, average, num_range, largest_negative, repeats"
   ]
  },
  {
   "cell_type": "code",
   "execution_count": 12,
   "metadata": {},
   "outputs": [],
   "source": [
    "max_val, min_val, average, num_range, largest_negative, repeats = analyze_data(numbers)\n"
   ]
  },
  {
   "cell_type": "code",
   "execution_count": 13,
   "metadata": {},
   "outputs": [],
   "source": [
    "        \n",
    "def main():\n",
    "    try:     \n",
    "        print(f\"Maximum Value: {max_val}\")\n",
    "        print(f\"Minimum Value: {min_val}\")\n",
    "        print(f\"Average: {average:.2f}\")\n",
    "        print(f\"Range: {num_range}\")\n",
    "        print(f\"Largest Negative Number (absolute): {largest_negative}\")\n",
    "        if repeats:\n",
    "            print(\"Repeated Numbers:\")\n",
    "            for num, count in repeats.items():\n",
    "                print(f\"Number {num} repeats {count} times.\")\n",
    "        else:\n",
    "            print(\"No repeated numbers.\")\n",
    "    except Exception as e:\n",
    "        print(f\"An error occurred: {e}\")\n",
    "\n",
    "if __name__ == \"main\":\n",
    "    main()\n",
    "\n"
   ]
  },
  {
   "cell_type": "markdown",
   "metadata": {},
   "source": [
    "using enumerate function "
   ]
  },
  {
   "cell_type": "code",
   "execution_count": 14,
   "metadata": {},
   "outputs": [],
   "source": [
    "def analyze_data_enumerate(numbers):\n",
    "    max_val = max(numbers)\n",
    "    min_val = min(numbers)\n",
    "    average = sum(numbers) / len(numbers)\n",
    "    num_range = max_val - min_val\n",
    "    largest_negative = min([abs(n) for n in numbers if n < 0], default=0)\n",
    "    count_repeats = {}\n",
    "    for i in enumerate(numbers, start = 0):\n",
    "        num = i[1]\n",
    "        if num in count_repeats:\n",
    "            count_repeats[num] += 1\n",
    "        else:\n",
    "            count_repeats[num] = 1\n",
    "\n",
    "    repeats = {k: v for k, v in count_repeats.items() if v > 1}\n",
    "    return max_val, min_val, average, num_range, largest_negative, repeats"
   ]
  },
  {
   "cell_type": "code",
   "execution_count": 15,
   "metadata": {},
   "outputs": [],
   "source": [
    "max_val_e, min_val_e, average_e, num_range_e, largest_negative_e, repeats_e = analyze_data_enumerate(numbers)\n"
   ]
  },
  {
   "cell_type": "code",
   "execution_count": 16,
   "metadata": {},
   "outputs": [
    {
     "name": "stdout",
     "output_type": "stream",
     "text": [
      "Maximum Value: 1932\n",
      "Minimum Value: -1993\n",
      "Average: -34.25\n",
      "Range: 3925\n",
      "Largest Negative Number (absolute): 47\n"
     ]
    }
   ],
   "source": [
    "print(f\"Maximum Value: {max_val_e}\")\n",
    "print(f\"Minimum Value: {min_val_e}\")\n",
    "print(f\"Average: {average_e:.2f}\")\n",
    "print(f\"Range: {num_range_e}\")\n",
    "print(f\"Largest Negative Number (absolute): {largest_negative_e}\")"
   ]
  },
  {
   "cell_type": "code",
   "execution_count": 17,
   "metadata": {},
   "outputs": [
    {
     "name": "stdout",
     "output_type": "stream",
     "text": [
      "Folder 'lab1' created at '.'\n"
     ]
    }
   ],
   "source": []
  }
 ],
 "metadata": {
  "kernelspec": {
   "display_name": "base",
   "language": "python",
   "name": "python3"
  },
  "language_info": {
   "codemirror_mode": {
    "name": "ipython",
    "version": 3
   },
   "file_extension": ".py",
   "mimetype": "text/x-python",
   "name": "python",
   "nbconvert_exporter": "python",
   "pygments_lexer": "ipython3",
   "version": "3.11.7"
  }
 },
 "nbformat": 4,
 "nbformat_minor": 2
}
