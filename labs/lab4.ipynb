{
 "cells": [
  {
   "cell_type": "markdown",
   "id": "0709c193-4a58-4c84-a369-35b56eed6914",
   "metadata": {},
   "source": [
    "# 4. PCA and t-SNE\n",
    "In this lab, we will go through PCA and t-SNE on MNIST dataset. "
   ]
  },
  {
   "cell_type": "markdown",
   "id": "0cac400f-2fa1-4d6f-8ba5-43b0b1c89ba3",
   "metadata": {},
   "source": [
    "## MNIST dataset\n",
    "The `mnist` package provides a function to load the MNIST dataset. The MNIST dataset is a dataset of handwritten digits. It has 60,000 training samples, and 10,000 test samples. Each image is represented by 28x28 pixels, each containing a value 0 - 255 with its grayscale value. The MNIST dataset is one of the most common datasets used for image classification and accessible from many different sources. See [MNIST dataset](http://yann.lecun.com/exdb/mnist/)."
   ]
  },
  {
   "cell_type": "code",
   "execution_count": 2,
   "id": "3e764f29-118c-47e9-881a-fd12d4003c63",
   "metadata": {},
   "outputs": [],
   "source": [
    "# load from mnist dataset: python-mnist\n",
    "# train-images-idx3-ubyte.gz:  training set images (9912422 bytes)\n",
    "# train-labels-idx1-ubyte.gz:  training set labels (28881 bytes)\n",
    "# t10k-images-idx3-ubyte.gz:   test set images (1648877 bytes)\n",
    "# t10k-labels-idx1-ubyte.gz:   test set labels (4542 bytes)\n",
    "from mnist import MNIST\n",
    "# Initialize the dataset\n",
    "mndata = MNIST('../datasets/MNIST/') # change the path to the dataset folder\n",
    "# Load the dataset into memory (this will search the four files above)\n",
    "training_images, training_labels = mndata.load_training()\n",
    "testing_images, testing_labels = mndata.load_testing()"
   ]
  },
  {
   "cell_type": "markdown",
   "id": "f7396723-fec0-4951-8b73-409e8e6c9e4b",
   "metadata": {},
   "source": [
    "You can also import the MNIST dataset from `keras` package. \n",
    "`keras` is a high-level neural networks API, written in Python and capable of running on top of TensorFlow, CNTK, or Theano. \n",
    "It was developed with a focus on enabling fast experimentation. \n",
    "Being able to go from idea to result with the least possible delay is key to doing good research.\n",
    "``` python\n",
    "from keras.datasets import mnist\n",
    "# Load the MNIST dataset\n",
    "(X_train, y_train), (X_test, y_test) = mnist.load_data()\n",
    "```"
   ]
  },
  {
   "cell_type": "markdown",
   "id": "c67aaea8-4cca-47a2-8a0e-d00bef4c5508",
   "metadata": {},
   "source": [
    "Also, you can call the MNIST dataset from `pytorch` package.\n",
    "PyTorch is an open source machine learning library based on the Torch library, used for applications such as computer vision and natural language processing, primarily developed by Facebook's AI Research lab (FAIR). It is free and open-source software released under the Modified BSD license. \n",
    "``` python\n",
    "import torch\n",
    "import torchvision\n",
    "import torchvision.transforms as transforms\n",
    "# Load the MNIST dataset\n",
    "transform = transforms.Compose(\n",
    "    [transforms.ToTensor(),\n",
    "     transforms.Normalize((0.5, 0.5, 0.5), (0.5, 0.5, 0.5))])\n",
    "trainset = torchvision.datasets.MNIST(root='./data', train=True,\n",
    "                                      download=True, transform=transform)\n",
    "trainloader = torch.utils.data.DataLoader(trainset, batch_size=4,\n",
    "                                          shuffle=True, num_workers=2)\n",
    "testset = torchvision.datasets.MNIST(root='./data', train=False,\n",
    "                                     download=True, transform=transform)\n",
    "testloader = torch.utils.data.DataLoader(testset, batch_size=4,\n",
    "                                         shuffle=False, num_workers=2)\n",
    "```"
   ]
  },
  {
   "cell_type": "markdown",
   "id": "d5c9fe35-1f28-47ea-8b61-d0b4274e27c8",
   "metadata": {},
   "source": [
    "## Tasks\n",
    "1. Load the MNIST dataset.\n",
    "2. Apply PCA and t-SNE on the MNIST dataset. Try the test dataset. t-SNE is time-consuming, so you can use a subset of the dataset.\n",
    "3. Visualize the results of PCA and t-SNE.\n",
    "4. Compare the results of PCA and t-SNE.\n",
    "5. Discuss the pros and cons of PCA and t-SNE."
   ]
  },
  {
   "cell_type": "markdown",
   "id": "fdf224da-7a51-484b-a773-b3c273256dd1",
   "metadata": {},
   "source": [
    "## PCA\n",
    "Principal Component Analysis (PCA) is a linear dimensionality reduction technique that can be utilized for extracting information from a high-dimensional space by projecting it into a lower-dimensional sub-space. It tries to preserve the essential parts that have more variation of the data and remove the non-essential parts with fewer variations. <br>\n",
    "NOTE: the following is a template code. You need to change or modify the variable `X_train`."
   ]
  },
  {
   "cell_type": "code",
   "execution_count": 6,
   "id": "cd66fd0f-2634-45b5-ad25-70ede020ad1c",
   "metadata": {},
   "outputs": [],
   "source": [
    "from sklearn.decomposition import PCA\n",
    "# Create a Randomized PCA model that takes two components\n",
    "randomized_pca = PCA(n_components=2, svd_solver='randomized')\n",
    "# Fit and transform the data to the model\n",
    "reduced_data_rpca = randomized_pca.fit_transform(X_train)"
   ]
  },
  {
   "cell_type": "markdown",
   "id": "d7822bd9-be63-4de0-9147-d5d50c290070",
   "metadata": {},
   "source": [
    "Have a look at the PCA results. Save the plot using `plt.savefig()` to a folder `labs/lab4` and name it `MNIST_PCA.png`."
   ]
  },
  {
   "cell_type": "code",
   "execution_count": null,
   "id": "16872c32-74aa-4f4a-abe3-0e2ead8ad1c9",
   "metadata": {},
   "outputs": [],
   "source": [
    "import matplotlib.pyplot as plt\n",
    "# Plot the data\n",
    "colors = ['black', 'blue', 'purple', 'yellow', 'white', 'red', 'lime', 'cyan', 'orange', 'gray']\n",
    "for i in range(len(colors)):\n",
    "    x = reduced_data_rpca[:, 0][y_train == i]\n",
    "    y = reduced_data_rpca[:, 1][y_train == i]\n",
    "    plt.scatter(x, y, c=colors[i])\n",
    "plt.legend(list(map(str, range(10))))\n",
    "plt.show()"
   ]
  },
  {
   "cell_type": "markdown",
   "id": "08e838de-d3de-484c-9b49-4aa91c438814",
   "metadata": {},
   "source": [
    "## t-SNE\n",
    "t-Distributed Stochastic Neighbor Embedding (t-SNE) is a non-linear dimensionality reduction algorithm used for exploring high-dimensional data. It maps multi-dimensional data to two or more dimensions suitable for human observation"
   ]
  },
  {
   "cell_type": "code",
   "execution_count": null,
   "id": "20eb887f-a39e-42e9-8716-a38f692feb90",
   "metadata": {},
   "outputs": [],
   "source": [
    "from sklearn.manifold import TSNE\n",
    "# Create a t-SNE model\n",
    "tsne = TSNE(n_components=2, verbose=1, perplexity=40, n_iter=300)\n",
    "# Fit and transform the data to the t-SNE model\n",
    "tsne_results = tsne.fit_transform(X_train)"
   ]
  },
  {
   "cell_type": "markdown",
   "id": "f2265f86-fa64-4261-9d2a-2e3f26bc3a07",
   "metadata": {},
   "source": [
    "Have a look at the t-SNE results. Save the plot using `plt.savefig()` to a folder `labs/lab4` and name it `MNIST_tSNE.png`."
   ]
  },
  {
   "cell_type": "code",
   "execution_count": null,
   "id": "ae1e3f5b-b721-4022-9ad6-23a7eff7f591",
   "metadata": {},
   "outputs": [],
   "source": [
    "# Plot the data\n",
    "colors = ['black', 'blue', 'purple', 'yellow', 'white', 'red', 'lime', 'cyan', 'orange', 'gray']\n",
    "for i in range(len(colors)):\n",
    "    x = tsne_results[:, 0][y_train == i]\n",
    "    y = tsne_results[:, 1][y_train == i]\n",
    "    plt.scatter(x, y, c=colors[i])\n",
    "plt.legend(list(map(str, range(10))))\n",
    "plt.show()"
   ]
  }
 ],
 "metadata": {
  "kernelspec": {
   "display_name": "Python 3 (ipykernel)",
   "language": "python",
   "name": "python3"
  },
  "language_info": {
   "codemirror_mode": {
    "name": "ipython",
    "version": 3
   },
   "file_extension": ".py",
   "mimetype": "text/x-python",
   "name": "python",
   "nbconvert_exporter": "python",
   "pygments_lexer": "ipython3",
   "version": "3.11.5"
  }
 },
 "nbformat": 4,
 "nbformat_minor": 5
}
