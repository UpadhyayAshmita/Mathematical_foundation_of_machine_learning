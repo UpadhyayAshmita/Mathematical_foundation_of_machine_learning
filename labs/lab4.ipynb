{
 "cells": [
  {
   "cell_type": "markdown",
   "id": "0709c193-4a58-4c84-a369-35b56eed6914",
   "metadata": {},
   "source": [
    "# 4. Intermediate Python and PCA and t-SNE\n",
    "In this lab, we will go through intermediate Python, PCA, and t-SNE on MNIST dataset. "
   ]
  },
  {
   "cell_type": "markdown",
   "id": "3347c564-4ec1-4b3b-a076-bb8730c318d2",
   "metadata": {},
   "source": [
    "As you may have some experience with Python, we will not go through the basics of Python. Instead, we will focus on some intermediate topics (although still Python 101) that are useful for coding.\n"
   ]
  },
  {
   "cell_type": "markdown",
   "id": "1c60c12b-0dcc-4b80-8a04-23adbf1bbc91",
   "metadata": {},
   "source": [
    "## Immutable vs Mutable\n",
    "In Python, there are two types of objects: immutable and mutable. Immutable objects are those that cannot be changed once created. Mutable objects are those that can be changed once created. Immutable objects include `int`, `float`, `bool`, `str`, `tuple`, `frozenset`. Mutable objects include `list`, `dict`, `set` and also the objects from the third party packages, such as `numpy.array` and `torch.tensor`.\n",
    "\n",
    "The following code shows an immutable object.\n"
   ]
  },
  {
   "cell_type": "code",
   "execution_count": 1,
   "id": "72d31e64-6282-4e3a-9889-ead7b1337ee5",
   "metadata": {},
   "outputs": [
    {
     "ename": "TypeError",
     "evalue": "'tuple' object does not support item assignment",
     "output_type": "error",
     "traceback": [
      "\u001b[0;31m---------------------------------------------------------------------------\u001b[0m",
      "\u001b[0;31mTypeError\u001b[0m                                 Traceback (most recent call last)",
      "Cell \u001b[0;32mIn[1], line 4\u001b[0m\n\u001b[1;32m      2\u001b[0m a \u001b[38;5;241m=\u001b[39m (\u001b[38;5;241m1\u001b[39m, \u001b[38;5;241m2\u001b[39m, \u001b[38;5;241m3\u001b[39m) \u001b[38;5;66;03m# tuple\u001b[39;00m\n\u001b[1;32m      3\u001b[0m b \u001b[38;5;241m=\u001b[39m a \n\u001b[0;32m----> 4\u001b[0m \u001b[43ma\u001b[49m\u001b[43m[\u001b[49m\u001b[38;5;241;43m0\u001b[39;49m\u001b[43m]\u001b[49m \u001b[38;5;241m=\u001b[39m \u001b[38;5;241m3\u001b[39m \u001b[38;5;66;03m# Error\u001b[39;00m\n\u001b[1;32m      5\u001b[0m a \u001b[38;5;241m=\u001b[39m (\u001b[38;5;241m3\u001b[39m, \u001b[38;5;241m2\u001b[39m, \u001b[38;5;241m1\u001b[39m) \u001b[38;5;66;03m# OK\u001b[39;00m\n\u001b[1;32m      6\u001b[0m \u001b[38;5;28mprint\u001b[39m(b) \u001b[38;5;66;03m# (1, 2, 3)\u001b[39;00m\n",
      "\u001b[0;31mTypeError\u001b[0m: 'tuple' object does not support item assignment"
     ]
    }
   ],
   "source": [
    "# Immutable\n",
    "a = (1, 2, 3) # tuple\n",
    "b = a \n",
    "a[0] = 3 # Error\n",
    "a = (3, 2, 1) # OK\n",
    "print(b) # (1, 2, 3)\n",
    "\n",
    "# Mutable\n",
    "a = [1, 2, 3] # list\n",
    "b = a\n",
    "a[0] = 3 # OK\n",
    "print(b) # [3, 2, 3]\n",
    "a = [3, 2, 1] # OK\n",
    "print(b) # [3, 2, 3]"
   ]
  },
  {
   "cell_type": "markdown",
   "id": "83a773ca-5f6d-4a14-be31-a586d32e32f9",
   "metadata": {},
   "source": [
    "## List Comprehension\n",
    "List comprehension is a concise way to create lists. It is very useful when you want to create a list based on another list. The following code shows how to use list comprehension.\n"
   ]
  },
  {
   "cell_type": "code",
   "execution_count": null,
   "id": "c5339932-e5d7-417f-a362-943783f66edc",
   "metadata": {},
   "outputs": [],
   "source": [
    "# Create a list of squares\n",
    "squares = [x**2 for x in range(10)]\n",
    "print(squares) # [0, 1, 4, 9, 16, 25, 36, 49, 64, 81]\n",
    "\n",
    "# Create a list with condition\n",
    "even_squares = [x**2 for x in range(10) if x % 2 == 0]\n",
    "print(even_squares) # [0, 4, 16, 36, 64]"
   ]
  },
  {
   "cell_type": "markdown",
   "id": "351cec8c-4e49-4e63-925f-25b63c6e8b89",
   "metadata": {},
   "source": [
    "## Function Arguments and Parameters Type\n",
    "In Python, there are two types of function arguments: positional arguments `args` and keyword arguments `kwargs`. Positional arguments are those that are passed to the function in the order they are defined. Keyword arguments are those that are passed to the function with a keyword and an equal sign. Keyword arguments are optional. The following code shows how to use positional arguments and keyword arguments.\n"
   ]
  },
  {
   "cell_type": "code",
   "execution_count": null,
   "id": "deac5f92-419f-44f7-ace8-ac6de397f3c6",
   "metadata": {},
   "outputs": [],
   "source": [
    "def func1(a, b, c=1, d=2):\n",
    "    print(a, b, c, d)\n",
    "    pass\n",
    "func1(1, 2) # 1 2 1 2\n",
    "\n",
    "def func2(a, b, *args, **kwargs):\n",
    "    print(a, b, args, kwargs)\n",
    "    pass\n",
    "\n",
    "func2(1, 2, 3, 4, 5, c=6, d=7) # 1 2 (3, 4, 5) {'c': 6, 'd': 7}"
   ]
  },
  {
   "cell_type": "markdown",
   "id": "5f7c48ea-bf85-4598-924b-219c9515d35e",
   "metadata": {},
   "source": [
    "## Boilerplate Code `if __name__ == '__main__'`\n",
    "In Python, when you run a script, the code in the script will be executed. However, sometimes you may want to import the script as a module and use the functions defined in the script. In this case, you do not want the code in the script to be executed. The following code shows how to use `if __name__ == '__main__'` to avoid executing the code in the script.\n"
   ]
  },
  {
   "cell_type": "code",
   "execution_count": null,
   "id": "e069a1b0-9bd6-46a9-9752-62aa94480fd4",
   "metadata": {},
   "outputs": [],
   "source": [
    "# script.py\n",
    "def func1():\n",
    "    print('func1')\n",
    "    pass\n",
    "\n",
    "if __name__ == '__main__':\n",
    "    func1()"
   ]
  },
  {
   "cell_type": "markdown",
   "id": "027a3fce-0587-405d-87a5-d8d8d3eea0be",
   "metadata": {},
   "source": [
    "## Python Ternary Operator\n",
    "The ternary operator is used for inline conditional expressions. It is best used in simple, concise operations that are easily read. See [Python Ternary Operator](https://book.pythontips.com/en/latest/ternary_operators.html)."
   ]
  },
  {
   "cell_type": "code",
   "execution_count": null,
   "id": "031bd5d1-54b7-427e-87fb-5f1df4af17b0",
   "metadata": {},
   "outputs": [],
   "source": [
    "# ternary operator\n",
    "a, b = 10, 20\n",
    "min = a if a < b else b\n",
    "print(min)"
   ]
  },
  {
   "cell_type": "markdown",
   "id": "0cac400f-2fa1-4d6f-8ba5-43b0b1c89ba3",
   "metadata": {},
   "source": [
    "## MNIST dataset\n",
    "The `mnist` package provides a function to load the MNIST dataset. The MNIST dataset is a dataset of handwritten digits. It has 60,000 training samples, and 10,000 test samples. Each image is represented by 28x28 pixels, each containing a value 0 - 255 with its grayscale value. The MNIST dataset is one of the most common datasets used for image classification and accessible from many different sources. See [MNIST dataset](http://yann.lecun.com/exdb/mnist/)."
   ]
  },
  {
   "cell_type": "code",
   "execution_count": 2,
   "id": "3e764f29-118c-47e9-881a-fd12d4003c63",
   "metadata": {},
   "outputs": [],
   "source": [
    "# load from mnist dataset: python-mnist\n",
    "# train-images-idx3-ubyte.gz:  training set images (9912422 bytes)\n",
    "# train-labels-idx1-ubyte.gz:  training set labels (28881 bytes)\n",
    "# t10k-images-idx3-ubyte.gz:   test set images (1648877 bytes)\n",
    "# t10k-labels-idx1-ubyte.gz:   test set labels (4542 bytes)\n",
    "from mnist import MNIST\n",
    "# Initialize the dataset\n",
    "mndata = MNIST('../datasets/MNIST/') # change the path to the dataset folder\n",
    "# Load the dataset into memory (this will search the four files above)\n",
    "training_images, training_labels = mndata.load_training()\n",
    "testing_images, testing_labels = mndata.load_testing()"
   ]
  },
  {
   "cell_type": "markdown",
   "id": "f7396723-fec0-4951-8b73-409e8e6c9e4b",
   "metadata": {},
   "source": [
    "You can also import the MNIST dataset from `keras` package. \n",
    "`keras` is a high-level neural networks API, written in Python and capable of running on top of TensorFlow, CNTK, or Theano. \n",
    "It was developed with a focus on enabling fast experimentation. \n",
    "Being able to go from idea to result with the least possible delay is key to doing good research.\n",
    "``` python\n",
    "from keras.datasets import mnist\n",
    "# Load the MNIST dataset\n",
    "(X_train, y_train), (X_test, y_test) = mnist.load_data()\n",
    "```"
   ]
  },
  {
   "cell_type": "markdown",
   "id": "c67aaea8-4cca-47a2-8a0e-d00bef4c5508",
   "metadata": {},
   "source": [
    "Also, you can call the MNIST dataset from `pytorch` package.\n",
    "PyTorch is an open source machine learning library based on the Torch library, used for applications such as computer vision and natural language processing, primarily developed by Facebook's AI Research lab (FAIR). It is free and open-source software released under the Modified BSD license. \n",
    "``` python\n",
    "import torch\n",
    "import torchvision\n",
    "import torchvision.transforms as transforms\n",
    "# Load the MNIST dataset\n",
    "transform = transforms.Compose(\n",
    "    [transforms.ToTensor(),\n",
    "     transforms.Normalize((0.5, 0.5, 0.5), (0.5, 0.5, 0.5))])\n",
    "trainset = torchvision.datasets.MNIST(root='./data', train=True,\n",
    "                                      download=True, transform=transform)\n",
    "trainloader = torch.utils.data.DataLoader(trainset, batch_size=4,\n",
    "                                          shuffle=True, num_workers=2)\n",
    "testset = torchvision.datasets.MNIST(root='./data', train=False,\n",
    "                                     download=True, transform=transform)\n",
    "testloader = torch.utils.data.DataLoader(testset, batch_size=4,\n",
    "                                         shuffle=False, num_workers=2)\n",
    "```"
   ]
  },
  {
   "cell_type": "markdown",
   "id": "d5c9fe35-1f28-47ea-8b61-d0b4274e27c8",
   "metadata": {},
   "source": [
    "## Tasks\n",
    "1. Load the MNIST dataset.\n",
    "2. Apply PCA and t-SNE on the MNIST dataset. Try the test dataset. t-SNE is time-consuming, so you can use a subset of the dataset.\n",
    "3. Visualize the results of PCA and t-SNE.\n",
    "4. Compare the results of PCA and t-SNE.\n",
    "5. Discuss the pros and cons of PCA and t-SNE."
   ]
  },
  {
   "cell_type": "markdown",
   "id": "fdf224da-7a51-484b-a773-b3c273256dd1",
   "metadata": {},
   "source": [
    "## PCA\n",
    "Principal Component Analysis (PCA) is a linear dimensionality reduction technique that can be utilized for extracting information from a high-dimensional space by projecting it into a lower-dimensional sub-space. It tries to preserve the essential parts that have more variation of the data and remove the non-essential parts with fewer variations. <br>\n",
    "NOTE: the following is a template code. You need to change or modify the variable `X_train`."
   ]
  },
  {
   "cell_type": "code",
   "execution_count": 6,
   "id": "cd66fd0f-2634-45b5-ad25-70ede020ad1c",
   "metadata": {},
   "outputs": [],
   "source": [
    "from sklearn.decomposition import PCA\n",
    "# Create a Randomized PCA model that takes two components\n",
    "randomized_pca = PCA(n_components=2, svd_solver='randomized')\n",
    "# Fit and transform the data to the model\n",
    "reduced_data_rpca = randomized_pca.fit_transform(X_train)"
   ]
  },
  {
   "cell_type": "markdown",
   "id": "d7822bd9-be63-4de0-9147-d5d50c290070",
   "metadata": {},
   "source": [
    "Have a look at the PCA results. Save the plot using `plt.savefig()` to a folder `labs/lab4` and name it `MNIST_PCA.png`."
   ]
  },
  {
   "cell_type": "code",
   "execution_count": null,
   "id": "16872c32-74aa-4f4a-abe3-0e2ead8ad1c9",
   "metadata": {},
   "outputs": [],
   "source": [
    "import matplotlib.pyplot as plt\n",
    "# Plot the data\n",
    "colors = ['black', 'blue', 'purple', 'yellow', 'white', 'red', 'lime', 'cyan', 'orange', 'gray']\n",
    "for i in range(len(colors)):\n",
    "    x = reduced_data_rpca[:, 0][y_train == i]\n",
    "    y = reduced_data_rpca[:, 1][y_train == i]\n",
    "    plt.scatter(x, y, c=colors[i])\n",
    "plt.legend(list(map(str, range(10))))\n",
    "plt.show()"
   ]
  },
  {
   "cell_type": "markdown",
   "id": "08e838de-d3de-484c-9b49-4aa91c438814",
   "metadata": {},
   "source": [
    "## t-SNE\n",
    "t-Distributed Stochastic Neighbor Embedding (t-SNE) is a non-linear dimensionality reduction algorithm used for exploring high-dimensional data. It maps multi-dimensional data to two or more dimensions suitable for human observation"
   ]
  },
  {
   "cell_type": "code",
   "execution_count": null,
   "id": "20eb887f-a39e-42e9-8716-a38f692feb90",
   "metadata": {},
   "outputs": [],
   "source": [
    "from sklearn.manifold import TSNE\n",
    "# Create a t-SNE model\n",
    "tsne = TSNE(n_components=2, verbose=1, perplexity=40, n_iter=300)\n",
    "# Fit and transform the data to the t-SNE model\n",
    "tsne_results = tsne.fit_transform(X_train)"
   ]
  },
  {
   "cell_type": "markdown",
   "id": "f2265f86-fa64-4261-9d2a-2e3f26bc3a07",
   "metadata": {},
   "source": [
    "Have a look at the t-SNE results. Save the plot using `plt.savefig()` to a folder `labs/lab4` and name it `MNIST_tSNE.png`."
   ]
  },
  {
   "cell_type": "code",
   "execution_count": null,
   "id": "ae1e3f5b-b721-4022-9ad6-23a7eff7f591",
   "metadata": {},
   "outputs": [],
   "source": [
    "# Plot the data\n",
    "colors = ['black', 'blue', 'purple', 'yellow', 'white', 'red', 'lime', 'cyan', 'orange', 'gray']\n",
    "for i in range(len(colors)):\n",
    "    x = tsne_results[:, 0][y_train == i]\n",
    "    y = tsne_results[:, 1][y_train == i]\n",
    "    plt.scatter(x, y, c=colors[i])\n",
    "plt.legend(list(map(str, range(10))))\n",
    "plt.show()"
   ]
  }
 ],
 "metadata": {
  "kernelspec": {
   "display_name": "Python 3 (ipykernel)",
   "language": "python",
   "name": "python3"
  },
  "language_info": {
   "codemirror_mode": {
    "name": "ipython",
    "version": 3
   },
   "file_extension": ".py",
   "mimetype": "text/x-python",
   "name": "python",
   "nbconvert_exporter": "python",
   "pygments_lexer": "ipython3",
   "version": "3.11.5"
  }
 },
 "nbformat": 4,
 "nbformat_minor": 5
}
