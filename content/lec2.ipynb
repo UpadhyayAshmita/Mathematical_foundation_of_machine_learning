{
 "cells": [
  {
   "cell_type": "markdown",
   "id": "1c8394ff-f0de-4161-8c4c-dec4556af884",
   "metadata": {},
   "source": [
    "# Data Preprocessing\n",
    "We will use Data Preprocessing to learn the basics of Python and its useful packages. \n",
    "The data preprocessing is the first step in the data science (machine learning) pipeline.\n",
    "As we discussed in the first lecture, \n",
    "the primary goal of data preprocessing is to transform raw data into a format that can be efficiently and effectively processed by machine learning algorithms."
   ]
  },
  {
   "cell_type": "markdown",
   "id": "b719a72f-6360-4a2c-a45f-18ae232fb203",
   "metadata": {},
   "source": [
    "**How to convert data to numbers?**"
   ]
  },
  {
   "cell_type": "markdown",
   "id": "7479a70f-6454-4fa6-94b8-2814d62d27c2",
   "metadata": {},
   "source": [
    "## Python Environment\n",
    "Python environment is a context in which a Python program runs. An environment consists of an interpreter and any number of installed packages. See [Python Environment](https://docs.python.org/3/tutorial/venv.html).\n",
    "Using `conda` to create and control your Python environment is a good choice. See [Managing environments](https://docs.conda.io/projects/conda/en/latest/user-guide/tasks/manage-environments.html)."
   ]
  },
  {
   "cell_type": "markdown",
   "id": "bc0f4584-55a3-4631-b667-9b277628d1c8",
   "metadata": {},
   "source": [
    "## Python Basics and Useful Packages\n",
    "Python is a general-purpose programming language that is becoming more and more popular for doing data science.\n",
    "Python is a high-level, interpreted, interactive and object-oriented scripting language.\n",
    "It can be installed on different operating systems such as Windows, Linux, and Mac, and can be also run on servers such as colab.\n",
    "You are recommended to use [Anaconda](https://www.anaconda.com/) to install Python and its packages or run the jupyter notebook directly on [colab](https://colab.google)."
   ]
  },
  {
   "cell_type": "code",
   "execution_count": null,
   "id": "7b99dcb3-58fc-4851-9da8-a4e8f818fe5a",
   "metadata": {},
   "outputs": [],
   "source": [
    "# print the platform, OS, environment, cpu, memory, and username information\n",
    "import platform, os, sys, getpass, psutil\n",
    "print('Platform:', platform.platform())\n",
    "print('OS:', os.name)\n",
    "print('Environment:', sys.executable)\n",
    "print('CPU:', platform.processor())\n",
    "print('Memory:', psutil.virtual_memory().total / (1024.0 ** 3), 'GB')\n",
    "print('Username:', getpass.getuser())"
   ]
  },
  {
   "cell_type": "markdown",
   "id": "6bc8f156-8741-43c1-b4a1-5802909330eb",
   "metadata": {},
   "source": [
    "We will use the following Python packages in this lecture:\n",
    "1. [python](https://docs.python.org/3/library/index.html): the official python documentation.\n",
    "1. [numpy](https://numpy.org/): a package for scientific computing with Python.\n",
    "1. [pandas](https://pandas.pydata.org/): a fast, powerful, flexible and easy to use open source data analysis and manipulation tool.\n",
    "1. [scikit-learn](https://scikit-learn.org/stable/): a machine learning library for Python.\n",
    "1. [mnist](https://pypi.org/project/python-mnist/): a package for reading MNIST dataset.\n",
    "1. [matplotlib](https://matplotlib.org/): a comprehensive library for creating static, animated, and interactive visualizations in Python."
   ]
  },
  {
   "cell_type": "markdown",
   "id": "d7e0be73-1f36-4923-ad4e-f4b31a641d89",
   "metadata": {},
   "source": [
    "### 1. `python` -- The official python documentation\n",
    "In this course, we will use python 3.12.1 and its packages. For certen packages, we will use the older version of python.\n",
    "The official python documentation is a good place to learn the basic python syntax and its packages.\n",
    "\n",
    "#### - Python function\n",
    "A function is a block of organized, reusable code that is used to perform a single, related action. Functions provide better modularity for your application and a high degree of code reusing. As you already know, Python gives you many built-in functions like `print()`, etc. but you can also create your own functions. These functions are called user-defined functions. See [Defining Functions](https://docs.python.org/3/tutorial/controlflow.html#defining-functions).\n",
    "``` python\n",
    "# define a function\n",
    "def function_name(parameters):\n",
    "    \"\"\"docstring\"\"\"\n",
    "    statement(s)\n",
    "    return [expression]\n",
    "# call a function\n",
    "function_name(parameters)\n",
    "```"
   ]
  },
  {
   "cell_type": "code",
   "execution_count": 7,
   "id": "a6372528-4472-49fe-8104-f75ddaebba01",
   "metadata": {},
   "outputs": [
    {
     "data": {
      "text/plain": [
       "20"
      ]
     },
     "execution_count": 7,
     "metadata": {},
     "output_type": "execute_result"
    }
   ],
   "source": [
    "def my_multiply(a, b):\n",
    "    return a*b\n",
    "def my_addition(a: int, b: int) -> int:\n",
    "    sum = a + b\n",
    "    return sum\n",
    "my_multiply(4, 5)\n",
    "#my_addition(4, 5)"
   ]
  },
  {
   "cell_type": "markdown",
   "id": "aa5ddcd4-3898-48bf-83f1-d9039656bc53",
   "metadata": {},
   "source": [
    "#### - [Built-in Function](https://docs.python.org/3/library/functions.html): a list of built-in functions in python. The following functions are commonly used in data preprocessing.\n",
    "---\n",
    "- `abs()`: Return the absolute value of a number. The argument may be an integer or a floating point number. If the argument is a complex number, its magnitude is returned.\n",
    "- `max()` and `min()`: Return the largest or the smallest item in an iterable or the largest of two or more arguments. See [Built-in Functions](https://docs.python.org/3/library/functions.html#max).\n",
    "- `pow()`: Return base to the power exp; if mod is present, return base to the power exp, modulo mod (computed more efficiently than pow(base, exp) % mod). The two-argument form pow(base, exp) is equivalent to using the power operator: base, exp. See [Built-in Functions](https://docs.python.org/3/library/functions.html#pow).\n",
    "---\n",
    "- `dict()`: Create a new dictionary. The dict object is the dictionary class. See [Mapping Types — dict](https://docs.python.org/3/library/stdtypes.html#mapping-types-dict).\n",
    "- `list()`: Return a list whose items are the same and in the same order as iterable‘s items. iterable may be either a sequence, a container that supports iteration, or an iterator object. See [list](https://docs.python.org/3/library/stdtypes.html#list).\n",
    "---\n",
    "- `enumerate()`: Return an enumerate object. The enumerate object yields pairs containing a count (from start, which defaults to zero) and a value yielded by the iterable argument. See [enumerate](https://docs.python.org/3/library/functions.html#enumerate).\n",
    "- `len()`: Return the length (the number of items) of an object. The argument may be a sequence (such as a string, bytes, tuple, list, or range) or a collection (such as a dictionary, set, or frozen set). See [Built-in Functions](https://docs.python.org/3/library/functions.html#len).\n",
    "- `next()`: Retrieve the next item from the iterator by calling its __next__() method. If the default is given, it is returned if the iterator is exhausted, otherwise, StopIteration is raised. See [Built-in Functions](https://docs.python.org/3/library/functions.html#next).\n",
    "- `range()`: Rather than being a function, the range is actually an immutable sequence type, as documented in Ranges and Sequence Types — list, tuple, range. See [Built-in Functions](https://docs.python.org/3/library/functions.html#func-range).\n",
    "---\n",
    "- `open()`: Open file and return a corresponding file object. If the file cannot be opened, an OSError is raised. See [Built-in Functions](https://docs.python.org/3/library/functions.html#open).\n",
    "- `print()`: Print objects to the text stream file, separated by sep and followed by end. sep, end, file and flush, if present, must be given as keyword arguments. See [Built-in Functions](https://docs.python.org/3/library/functions.html#print).\n",
    "---"
   ]
  },
  {
   "cell_type": "code",
   "execution_count": 1,
   "id": "b61f3ea9-3c48-4740-bf3b-170ce9874c1e",
   "metadata": {},
   "outputs": [
    {
     "name": "stdout",
     "output_type": "stream",
     "text": [
      "[1, 2, 3] 3\n",
      "{'a': 1, 'b': 2, 'c': 3} 3 3\n"
     ]
    }
   ],
   "source": [
    "# initialize a list \n",
    "my_list = []\n",
    "# append an item to the list \n",
    "my_list.append(1)\n",
    "my_list.append(2)\n",
    "my_list.append(3)\n",
    "print(my_list, len(my_list))\n",
    "\n",
    "# initialize a dictionary\n",
    "my_dict = {}\n",
    "# add an item to the dictionary\n",
    "my_dict['a'] = 1 \n",
    "my_dict['b'] = 2 \n",
    "my_dict['c'] = 3 \n",
    "print(my_dict, len(my_dict.keys()), len(my_dict.values()))"
   ]
  },
  {
   "cell_type": "markdown",
   "id": "4d974f0c-e502-44be-940b-681bef6629d4",
   "metadata": {},
   "source": [
    "#### - [Built-in Types](https://docs.python.org/3/library/stdtypes.html): a list of built-in types in python.\n",
    "Python uses the common data types such as `int`, `float`, `str`, `list`, `dict`, and `bool`.\n",
    "The following description is based on `list` type. `list` is a mutable sequence type that can be written as a list of comma-separated values (items) between square brackets."
   ]
  },
  {
   "cell_type": "code",
   "execution_count": null,
   "id": "e3059e7f-a0c4-4ee6-ba77-eae0a88e6fbb",
   "metadata": {},
   "outputs": [],
   "source": [
    "# list\n",
    "list = [1, 2, 3, 4, 5]\n",
    "print(list)"
   ]
  },
  {
   "cell_type": "markdown",
   "id": "9c33bab5-1edf-49a2-a592-413d6caf0df7",
   "metadata": {},
   "source": [
    "`list` can contains different types of data, such as having a list of lists or a list of `float` and `int` types in the same list."
   ]
  },
  {
   "cell_type": "code",
   "execution_count": null,
   "id": "32984899-15b8-4598-a93e-ebb4cc53f5ec",
   "metadata": {},
   "outputs": [],
   "source": [
    "# list of lists\n",
    "list = [[1, 2, 3], [4, 5, 6]]\n",
    "print(list)\n",
    "# list of float and int\n",
    "list = [1, 2, 3, 4, 5, 6.0]\n",
    "print(list)"
   ]
  },
  {
   "cell_type": "markdown",
   "id": "ccb5fcb2-f420-40cf-936a-352ee981bdd7",
   "metadata": {},
   "source": [
    "The `list` type has some useful methods such as `append()`, `extend()`, `insert()`, `remove()`, `pop()`, `clear()`, `index()`, `count()`, `sort()`, and `reverse()`."
   ]
  },
  {
   "cell_type": "code",
   "execution_count": null,
   "id": "0a6864ca-b976-46a5-a095-72a5feb634a4",
   "metadata": {},
   "outputs": [],
   "source": [
    "list = [1, 2, 3, 4, 5]\n",
    "# list append\n",
    "list.append(6)\n",
    "print(list)\n",
    "# list extend\n",
    "list.extend([7, 8, 9])\n",
    "print(list)\n",
    "# list insert\n",
    "list.insert(0, 0)\n",
    "print(list)\n",
    "# list remove\n",
    "list.remove(0)\n",
    "print(list)\n",
    "# list index\n",
    "print(list.index(1))"
   ]
  },
  {
   "cell_type": "markdown",
   "id": "413b93b0-245f-4cbc-ad7f-403e92982f0c",
   "metadata": {},
   "source": [
    "Another part is about the **Boolean Operations**. The Boolean type is a subtype of the integer type, and Boolean values behave like the values 0 and 1, respectively, in almost all contexts, the exception being that when converted to a string, the strings \"False\" or \"True\" are returned, respectively. See [Boolean Operations](https://docs.python.org/3/library/stdtypes.html#boolean-operations-and-or-not)."
   ]
  },
  {
   "cell_type": "code",
   "execution_count": null,
   "id": "3c3ddc5a-4439-49d5-b056-e35ea6f9b9a2",
   "metadata": {},
   "outputs": [],
   "source": [
    "# if statement\n",
    "if True:\n",
    "    print('True')\n",
    "else:\n",
    "    print('False')\n",
    "\n",
    "# if statement with and, or, not\n",
    "flag = True\n",
    "if not flag:\n",
    "    print('False')\n",
    "elif flag and not flag:\n",
    "    print('False')\n",
    "else:\n",
    "    print('True')"
   ]
  },
  {
   "cell_type": "markdown",
   "id": "c65ba5f6-2b89-4751-827e-152d87b3a40b",
   "metadata": {},
   "source": [
    "#### - For Loop\n",
    "The `for` statement is used to iterate over the elements of a sequence (such as a string, tuple or list) or other iterable object. Iterating over a sequence is called traversal. See [for statement](https://docs.python.org/3/reference/compound_stmts.html#for).\n",
    "``` python\n",
    "# for loop\n",
    "for i in range(10):\n",
    "    print(i)\n",
    "```"
   ]
  },
  {
   "cell_type": "code",
   "execution_count": null,
   "id": "97b5090d-c09c-4c28-9d7b-55d97a0046e5",
   "metadata": {},
   "outputs": [],
   "source": []
  },
  {
   "cell_type": "markdown",
   "id": "2f4b0426-a07d-4467-9ec0-4437bc935963",
   "metadata": {},
   "source": [
    "#### - Useful Standard Modules (Packages)\n",
    "We will use the following packages in this lecture:\n",
    "- [os](https://docs.python.org/3/library/os.html): Miscellaneous operating system interfaces.\n",
    "- [sys](https://docs.python.org/3/library/sys.html): System-specific parameters and functions.\n",
    "- [math](https://docs.python.org/3/library/math.html): Mathematical functions.\n",
    "- [random](https://docs.python.org/3/library/random.html): Generate pseudo-random numbers.\n",
    "- [time](https://docs.python.org/3/library/time.html): Time access and conversions.\n",
    "- [re](https://docs.python.org/3/library/re.html): Regular expression operations.\n",
    "- [argparse](https://docs.python.org/3/library/argparse.html): Parser for command-line options, arguments and sub-commands."
   ]
  },
  {
   "cell_type": "code",
   "execution_count": 2,
   "id": "b792943f-6c7d-4be8-acc9-cc557fcc0fce",
   "metadata": {},
   "outputs": [
    {
     "name": "stdout",
     "output_type": "stream",
     "text": [
      "0.7309921699842441\n",
      "1705078037.701858\n",
      "/Users/jiahuic/Documents/UArk/teaching/MATH499V-MFML/slides\n",
      "3.11.7 (main, Dec 15 2023, 12:09:56) [Clang 14.0.6 ]\n",
      "['1', '2', '3', '4', '5|6', '7', '8', '9', '10']\n",
      "['1,2,3,4,5', '6,7,8,9,10']\n",
      "['1', '2', '3', '4', '5', '6', '7', '8', '9', '10']\n"
     ]
    }
   ],
   "source": [
    "import os, sys, math, random, time, re, argparse\n",
    "# generate a random number\n",
    "print(random.random())\n",
    "# get the current time \n",
    "print(time.time())\n",
    "# get the current working directory\n",
    "print(os.getcwd())\n",
    "# get the current python version\n",
    "print(sys.version)\n",
    "\n",
    "# split a string\n",
    "my_str = '1,2,3,4,5|6,7,8,9,10'\n",
    "print(my_str.split(','))\n",
    "print(my_str.split('|'))\n",
    "print(re.split(',|\\|', my_str))"
   ]
  },
  {
   "cell_type": "markdown",
   "id": "7e004b6c-5563-4078-abf6-27315cc8a68e",
   "metadata": {},
   "source": [
    "### 2. `numpy` -- Numerical Python\n",
    "The `numpy` package is the core library for scientific computing in Python. Some of its roles can be replaced by `pytorch` or `tensorflow` when consider the deep learning numerical network. We will go back to `pytorch` by the end of this semester.\n",
    "The `numpy` package provides the `ndarray` object for efficient storage and manipulation of dense data arrays in Python. The `numpy` array is a powerful N-dimensional array object which is in the form of rows and columns. We can initialize `numpy` arrays from nested Python lists, and access elements using square brackets."
   ]
  },
  {
   "cell_type": "code",
   "execution_count": null,
   "id": "85a2f2cc-3b53-436a-be88-3f3620f7cedf",
   "metadata": {},
   "outputs": [],
   "source": [
    "import numpy as np\n",
    "# create a numpy array\n",
    "a = np.array([1, 2, 3])\n",
    "print(a)\n",
    "# create a 2d numpy array\n",
    "b = np.array([[1, 2, 3], [4, 5, 6]])\n",
    "print(b)\n",
    "# create a 3d numpy array\n",
    "c = np.array([[[1, 2, 3], [4, 5, 6]], [[7, 8, 9], [10, 11 ,12]]])\n",
    "print(c)"
   ]
  },
  {
   "cell_type": "markdown",
   "id": "82643efc-c4ef-49dd-a533-9e315c0fcf18",
   "metadata": {},
   "source": [
    "The `numpy` can do the basic math operations such as `+`, `-`, `*`, `/`, and `**`."
   ]
  },
  {
   "cell_type": "code",
   "execution_count": null,
   "id": "ac4d775d-b75d-4898-b613-a1c598301be6",
   "metadata": {},
   "outputs": [],
   "source": [
    "import numpy as np\n",
    "a = np.array([1, 2, 3])\n",
    "b = np.array([4, 5, 6])\n",
    "# add\n",
    "print(a + b)\n",
    "# subtract\n",
    "print(a - b)\n",
    "# multiply\n",
    "print(a * b)\n",
    "# divide\n",
    "print(a / b)\n",
    "# power\n",
    "print(a ** b)"
   ]
  },
  {
   "cell_type": "markdown",
   "id": "fa76249d-f7eb-41fb-ae3a-ab78db8d3bad",
   "metadata": {},
   "source": [
    "**NOTE**: The `numpy` array is different from the `list` type. The `numpy` array is a fixed size array while the `list` type is a dynamic array. The `numpy` array is faster than the `list` type."
   ]
  },
  {
   "cell_type": "code",
   "execution_count": null,
   "id": "d90551c6-de6d-48f0-a4b1-2f6f8e43816e",
   "metadata": {},
   "outputs": [],
   "source": [
    "import numpy as np\n",
    "# add two lists\n",
    "a = [1, 2, 3]\n",
    "b = [4, 5, 6]\n",
    "print(a + b)\n",
    "# add two numpy arrays\n",
    "a = np.array([1, 2, 3])\n",
    "b = np.array([4, 5, 6])\n",
    "print(a + b)"
   ]
  },
  {
   "cell_type": "markdown",
   "id": "eb9f4573-c13b-4506-875e-829ac656991a",
   "metadata": {},
   "source": [
    "The `numpy` package provides some useful functions such as `np.zeros()`, `np.ones()`, `np.full()`, `np.eye()`, `np.random.random()`, `np.arange()`, `np.linspace()`, `np.reshape()`, `np.transpose()`, `np.concatenate()`, `np.vstack()`, and `np.hstack()`."
   ]
  },
  {
   "cell_type": "code",
   "execution_count": null,
   "id": "6c163478-1ef6-4a49-8bff-8a298b5ea07a",
   "metadata": {},
   "outputs": [],
   "source": [
    "import numpy as np\n",
    "# create a numpy array with all zeros\n",
    "a = np.zeros((2, 2))\n",
    "print(a)\n",
    "# create a numpy array with all ones\n",
    "b = np.ones((2, 2))\n",
    "print(b)\n",
    "# create a numpy array with all full\n",
    "c = np.full((2, 2), 7)\n",
    "print(c)\n",
    "# create a numpy array with identity matrix\n",
    "d = np.eye(2)\n",
    "print(d)\n",
    "# create a numpy array with random values\n",
    "e = np.random.random((2, 2))\n",
    "print(e)\n",
    "# create a numpy array with a range\n",
    "f = np.arange(10)\n",
    "print(f)\n",
    "# create a numpy array with evenly spaced values\n",
    "g = np.linspace(0, 1, 5)\n",
    "print(g)\n",
    "# create a numpy array with reshape\n",
    "h = np.arange(10).reshape((2, 5))\n",
    "print(h)\n",
    "# create a numpy array with transpose\n",
    "i = np.arange(10).reshape((2, 5))\n",
    "print(i)\n",
    "print(i.T)\n",
    "# create a numpy array with concatenate\n",
    "j = np.array([[1, 2, 3], [4, 5, 6]])\n",
    "k = np.array([[7, 8, 9], [10, 11, 12]])\n",
    "print(np.concatenate([j, k], axis=0))\n",
    "print(np.concatenate([j, k], axis=1))\n",
    "# create a numpy array with vstack\n",
    "print(np.vstack([j, k]))\n",
    "# create a numpy array with hstack\n",
    "print(np.hstack([j, k]))"
   ]
  },
  {
   "cell_type": "markdown",
   "id": "542debb4-3cfc-43c9-a20a-c5c202b24509",
   "metadata": {},
   "source": [
    "The `numpy.linalg` package provides some useful functions such as `np.linalg.inv()`, `np.linalg.det()`, `np.linalg.eig()`, `np.linalg.svd()`, `np.linalg.solve()`, and `np.linalg.lstsq()`."
   ]
  },
  {
   "cell_type": "code",
   "execution_count": null,
   "id": "9ba5755c-f64c-4570-856b-f1eb135e60c2",
   "metadata": {},
   "outputs": [],
   "source": [
    "import numpy as np\n",
    "# create a numpy array\n",
    "a = np.array([[1, 2], [3, 4]])\n",
    "print(a)\n",
    "# compute the inverse of a matrix\n",
    "print(np.linalg.inv(a))\n",
    "# compute the determinant of a matrix\n",
    "print(np.linalg.det(a))\n",
    "# compute the eigenvalues and right eigenvectors of a square array\n",
    "print(np.linalg.eig(a))\n",
    "# compute the singular value decomposition\n",
    "print(np.linalg.svd(a))\n",
    "# solve a linear matrix equation\n",
    "b = np.array([1, 2])\n",
    "print(np.linalg.solve(a, b))\n",
    "# compute least-squares solution to equation\n",
    "print(np.linalg.lstsq(a, b))"
   ]
  },
  {
   "cell_type": "markdown",
   "id": "c48a48f9-e346-4516-b966-17fd6ccd4ea7",
   "metadata": {},
   "source": [
    "### 3. `pandas` -- Python Data Analysis Library\n",
    "Pandas is a powerful and widely-used Python library for data manipulation and analysis. It offers data structures and operations for manipulating numerical tables and time series, making it a crucial tool for data science and related fields.\n",
    "\n",
    "#### - `DataFrame` \n",
    "A two-dimensional, size-mutable, potentially heterogeneous tabular data. Data structure also contains labeled axes (rows and columns). Arithmetic operations align on both row and column labels. Can be thought of as a dict-like container for Series objects. The primary pandas data structure. See [DataFrame](https://pandas.pydata.org/pandas-docs/stable/reference/api/pandas.DataFrame.html)."
   ]
  },
  {
   "cell_type": "code",
   "execution_count": null,
   "id": "778a7866-d888-4d59-a215-9e13c6a572be",
   "metadata": {},
   "outputs": [],
   "source": [
    "import pandas as pd\n",
    "# create a pandas dataframe\n",
    "df = pd.DataFrame({'col1': [1, 2, 3], 'col2': [4, 5, 6]})\n",
    "print(df)\n",
    "# create a pandas dataframe from numpy array\n",
    "import numpy as np\n",
    "df = pd.DataFrame(np.random.rand(3, 2), columns=['col1', 'col2'])\n",
    "print(df)\n",
    "# create a pandas dataframe from list\n",
    "df = pd.DataFrame([[1, 2, 3], [4, 5, 6]], columns=['col1', 'col2', 'col3'])\n",
    "print(df)"
   ]
  },
  {
   "cell_type": "markdown",
   "id": "34c2d79d-18a6-44c6-9e38-66cc39d18cdd",
   "metadata": {},
   "source": [
    "To load csv files into a pandas dataframe, we can use the `pd.read_csv()` function.\n",
    "Access the dataset of a pandas dataframe."
   ]
  },
  {
   "cell_type": "code",
   "execution_count": null,
   "id": "d9da0d84-c578-46d7-bdb3-99906916f81c",
   "metadata": {},
   "outputs": [],
   "source": [
    "import pandas as pd\n",
    "# load csv file into a pandas dataframe\n",
    "df = pd.read_csv('data.csv')\n",
    "print(df)\n",
    "# access the dataset of a pandas dataframe\n",
    "print(df.values)"
   ]
  },
  {
   "cell_type": "markdown",
   "id": "ac721e83-dba1-4e1b-984b-d2d5b5711fb7",
   "metadata": {},
   "source": [
    "#### - `Series`\n",
    "One-dimensional ndarray with axis labels (including time series). Labels need not be unique but must be a hashable type. The object supports both integer- and label-based indexing and provides a host of methods for performing operations involving the index. Statistical methods from ndarray have been overridden to automatically exclude missing data (currently represented as NaN). See [Series](https://pandas.pydata.org/pandas-docs/stable/reference/api/pandas.Series.html)."
   ]
  },
  {
   "cell_type": "code",
   "execution_count": 6,
   "id": "a6ef5fff-0596-4c5b-86d5-f7f0eac3229b",
   "metadata": {},
   "outputs": [
    {
     "name": "stdout",
     "output_type": "stream",
     "text": [
      "0    1\n",
      "1    2\n",
      "2    3\n",
      "3    4\n",
      "4    5\n",
      "dtype: int64\n",
      "a    1\n",
      "b    2\n",
      "c    3\n",
      "d    4\n",
      "e    5\n",
      "dtype: int64\n",
      "0    0.809642\n",
      "1    0.043858\n",
      "2    0.637237\n",
      "3    0.690467\n",
      "4    0.137042\n",
      "dtype: float64\n"
     ]
    }
   ],
   "source": [
    "import pandas as pd\n",
    "# create a pandas series\n",
    "s = pd.Series([1, 2, 3, 4, 5])\n",
    "print(s)\n",
    "# create a pandas series with index\n",
    "s = pd.Series([1, 2, 3, 4, 5], index=['a', 'b', 'c', 'd', 'e'])\n",
    "print(s)\n",
    "# create a pandas series from numpy array\n",
    "import numpy as np\n",
    "s = pd.Series(np.random.rand(5))\n",
    "print(s)"
   ]
  },
  {
   "cell_type": "code",
   "execution_count": null,
   "id": "03f7f0f5-9572-4df7-aca3-c610b81c31e3",
   "metadata": {},
   "outputs": [],
   "source": [
    "import pandas as pd\n",
    "\n",
    "# Create a list of lists\n",
    "data = [['John', 20, 'male'], ['Jane', 25, 'female'], ['Bob', 30, 'male']]\n",
    "\n",
    "# Create a DataFrame from the list of lists\n",
    "df = pd.DataFrame(data, columns=['Name', 'Age', 'Gender'])\n",
    "\n",
    "# Print the DataFrame\n",
    "print(df)"
   ]
  },
  {
   "cell_type": "markdown",
   "id": "e63322e2-d0ef-49ac-8c80-1c5ae0d36df1",
   "metadata": {},
   "source": [
    "### 4. `scikit-learn` -- Dataset loading utilities\n",
    "The `sklearn.datasets` package provides the most popular machine learning methods basically for classification, regression, and clustering.\n",
    "In this course, we will discuss most of the methods in this package, code them from scratch and compare the results with the `sklearn` package.\n",
    "Those methods and their useage of the `sklearn` package will be discussed when we discuss the corresponding machine learning methods.\n",
    "Here, at the beginning of this course, we will discuss the `sklearn.datasets` package and its utilities.\n",
    "The `sklearn.datasets` package provides some utilities to load popular datasets [link](https://scikit-learn.org/stable/datasets.html).\n",
    "The function includes some small toy datasets and real world datasets\n",
    "- [Iris plant dataset](https://scikit-learn.org/stable/datasets/toy_dataset.html#iris-plants-dataset): The iris dataset is a classic and very easy multi-class classification dataset.\n",
    "  `iris = load_iris()`\n",
    "- [Diabetes dataset](https://scikit-learn.org/stable/datasets/toy_dataset.html#diabetes-dataset): En baseline variables, age, etc. were obtained for each of n=442 diabetes patients.\n",
    "- [Digits dataset](https://scikit-learn.org/stable/datasets/toy_dataset.html#digits-dataset): Optdigits dataset.\n",
    "- [Wine recognition dataset](https://scikit-learn.org/stable/datasets/toy_dataset.html#wine-recognition-dataset): The data is the results of a chemical analysis of wines grown in the same region in Italy by three different cultivators.\n",
    "- [California Housing dataset](https://scikit-learn.org/stable/datasets/toy_dataset.html#california-housing-dataset): This dataset was obtained from the StatLib repository. See [link](https://www.dcc.fc.up.pt/~ltorgo/Regression/cal_housing.html)."
   ]
  },
  {
   "cell_type": "code",
   "execution_count": null,
   "id": "9aaab334-3983-4c5b-84e3-4d19b59c3d22",
   "metadata": {},
   "outputs": [],
   "source": [
    "from sklearn.datasets import load_iris, load_diabetes, load_digits, load_wine, load_breast_cancer\n",
    "\n",
    "# Load the dataset\n",
    "iris = load_iris()\n",
    "# To view the features (the measurements for each flower)\n",
    "print(iris.data)\n",
    "# To view the target values (the species of each flower)\n",
    "print(iris.target)\n",
    "# To view the names of the target species\n",
    "print(iris.target_names)\n",
    "# To view the feature names\n",
    "print(iris.feature_names)\n",
    "# Description of the dataset\n",
    "print(iris.DESCR)"
   ]
  },
  {
   "cell_type": "code",
   "execution_count": 10,
   "id": "52b1bd87-d3a4-484e-8b11-81e31390d285",
   "metadata": {},
   "outputs": [],
   "source": [
    "from sklearn.datasets import load_iris, load_diabetes, load_digits, load_wine, load_breast_cancer\n",
    "\n",
    "diabetes = load_diabetes()"
   ]
  },
  {
   "cell_type": "markdown",
   "id": "041affbf-5163-4c15-8607-d54ae0b4d965",
   "metadata": {},
   "source": [
    "### 5. `mnist` -- MNIST dataset loader\n",
    "The `mnist` package provides a function to load the MNIST dataset. The MNIST dataset is a dataset of handwritten digits. It has 60,000 training samples, and 10,000 test samples. Each image is represented by 28x28 pixels, each containing a value 0 - 255 with its grayscale value. The MNIST dataset is one of the most common datasets used for image classification and accessible from many different sources. See [MNIST dataset](http://yann.lecun.com/exdb/mnist/). This link is invalid, check the backup [link](http://dia.fi.upm.es/~lbaumela/PracRF11/MNIST.html)\n"
   ]
  },
  {
   "cell_type": "code",
   "execution_count": 14,
   "id": "89f797c8-920e-41e1-b212-a64749ebfdff",
   "metadata": {},
   "outputs": [
    {
     "data": {
      "image/png": "[encoded data removed]",
      "text/plain": [
       "<Figure size 640x480 with 100 Axes>"
      ]
     },
     "metadata": {},
     "output_type": "display_data"
    }
   ],
   "source": [
    "# load from mnist dataset: python-mnist\n",
    "# train-images-idx3-ubyte.gz:  training set images (9912422 bytes)\n",
    "# train-labels-idx1-ubyte.gz:  training set labels (28881 bytes)\n",
    "# t10k-images-idx3-ubyte.gz:   test set images (1648877 bytes)\n",
    "# t10k-labels-idx1-ubyte.gz:   test set labels (4542 bytes)\n",
    "from mnist import MNIST\n",
    "# Initialize the dataset\n",
    "mndata = MNIST('./../datasets/')\n",
    "# Load the dataset into memory (this will search the four files above)\n",
    "training_images, training_labels = mndata.load_training()\n",
    "#testing_images, testing_labels = mndata.load_testing()\n",
    "\n",
    "import matplotlib.pyplot as plt\n",
    "import numpy as np\n",
    "# select 10 samples from each class [0-9]\n",
    "num_classes = 10\n",
    "samples_per_class = 10\n",
    "train_samples_index = [] # list of lists containing the indices of the samples for each class\n",
    "for i in range(num_classes):\n",
    "    train_samples_index.append(np.where(np.array(training_labels) == i)[0][:samples_per_class])\n",
    "\n",
    "fig, axs = plt.subplots(num_classes, samples_per_class)\n",
    "# select samples from the training_images\n",
    "for i in range(num_classes):\n",
    "    for j in range(samples_per_class):\n",
    "        axs[i, j].imshow(np.array(training_images[train_samples_index[i][j]]).reshape(28,28), cmap='gray')\n",
    "        axs[i, j].set_xticks([])\n",
    "        axs[i, j].set_yticks([])"
   ]
  },
  {
   "cell_type": "code",
   "execution_count": 19,
   "id": "38311fae-5376-454d-be11-2241d092aa7b",
   "metadata": {},
   "outputs": [
    {
     "name": "stdout",
     "output_type": "stream",
     "text": [
      "0  0  0  0  0  0  0  0  0    0    0    0    0    0    0    0    0    0    0  0  0  0  0  0  0  0  0  0  \n",
      "0  0  0  0  0  0  0  0  0    0    0    0    0    0    0    0    0    0    0  0  0  0  0  0  0  0  0  0  \n",
      "0  0  0  0  0  0  0  0  0    0    0    0    0    0    0    0    0    0    0  0  0  0  0  0  0  0  0  0  \n",
      "0  0  0  0  0  0  0  0  0    0    0    0    0    0    0    0    0    0    0  0  0  0  0  0  0  0  0  0  \n",
      "0  0  0  0  0  0  0  0  0    0    0    0    0    0    0    0    0    0    0  0  0  0  0  0  0  0  0  0  \n",
      "0  0  0  0  0  0  0  0  0    0   50  209  255  172   15    0    0    0    0  0  0  0  0  0  0  0  0  0  \n",
      "0  0  0  0  0  0  0  0  0   48  236  254  247  252   74    0    0    0    0  0  0  0  0  0  0  0  0  0  \n",
      "0  0  0  0  0  0  0  0  0  109  254  237   31  149  240   31    0    0    0  0  0  0  0  0  0  0  0  0  \n",
      "0  0  0  0  0  0  0  0  0  109  254  137    0  126  254  121    0    0    0  0  0  0  0  0  0  0  0  0  \n",
      "0  0  0  0  0  0  0  0  0  109  254  137    0  126  254  121    0    0    0  0  0  0  0  0  0  0  0  0  \n",
      "0  0  0  0  0  0  0  0  0  109  254  137    0  126  254  156    0    0    0  0  0  0  0  0  0  0  0  0  \n",
      "0  0  0  0  0  0  0  0  0  100  254  189   86  210  254  226   15    0    0  0  0  0  0  0  0  0  0  0  \n",
      "0  0  0  0  0  0  0  0  0    6  159  254  254  196  169  254   99    0    0  0  0  0  0  0  0  0  0  0  \n",
      "0  0  0  0  0  0  0  0  0    0    6   50   50   25   90  254  191    5    0  0  0  0  0  0  0  0  0  0  \n",
      "0  0  0  0  0  0  0  0  0    0    0    0    0    0    9  182  254   70    0  0  0  0  0  0  0  0  0  0  \n",
      "0  0  0  0  0  0  0  0  0    0    0    0    0    0    0   83  248  128    0  0  0  0  0  0  0  0  0  0  \n",
      "0  0  0  0  0  0  0  0  0    0    0    0    0    0    0    0  205  207    5  0  0  0  0  0  0  0  0  0  \n",
      "0  0  0  0  0  0  0  0  0    0    0    0    0    0    0    0  137  254   25  0  0  0  0  0  0  0  0  0  \n",
      "0  0  0  0  0  0  0  0  0    0    0    0    0    0    0    0  137  254   71  0  0  0  0  0  0  0  0  0  \n",
      "0  0  0  0  0  0  0  0  0    0    0    0    0    0    0    0  137  254  108  0  0  0  0  0  0  0  0  0  \n",
      "0  0  0  0  0  0  0  0  0    0    0    0    0    0    0    0  137  254  108  0  0  0  0  0  0  0  0  0  \n",
      "0  0  0  0  0  0  0  0  0    0   69  220  198  102    0    0  137  254  108  0  0  0  0  0  0  0  0  0  \n",
      "0  0  0  0  0  0  0  0  0    0  137  219  214  252  129   36  162  254  108  0  0  0  0  0  0  0  0  0  \n",
      "0  0  0  0  0  0  0  0  0    0   34    5   44  199  254  250  253  235   20  0  0  0  0  0  0  0  0  0  \n",
      "0  0  0  0  0  0  0  0  0    0    0    0    0    2  117  242  254  114    0  0  0  0  0  0  0  0  0  0  \n",
      "0  0  0  0  0  0  0  0  0    0    0    0    0    0    0    0    0    0    0  0  0  0  0  0  0  0  0  0  \n",
      "0  0  0  0  0  0  0  0  0    0    0    0    0    0    0    0    0    0    0  0  0  0  0  0  0  0  0  0  \n",
      "0  0  0  0  0  0  0  0  0    0    0    0    0    0    0    0    0    0    0  0  0  0  0  0  0  0  0  0  \n"
     ]
    }
   ],
   "source": [
    "# just a little function for pretty printing a matrix\n",
    "def matprint(mat, fmt=\"g\"):\n",
    "    col_maxes = [max([len((\"{:\"+fmt+\"}\").format(x)) for x in col]) for col in mat.T]\n",
    "    for x in mat:\n",
    "        for i, y in enumerate(x):\n",
    "            print((\"{:\"+str(col_maxes[i])+fmt+\"}\").format(y), end=\"  \")\n",
    "        print(\"\")\n",
    "\n",
    "# now print!        \n",
    "matprint(np.array(training_images[48]).reshape(28,28))"
   ]
  },
  {
   "cell_type": "markdown",
   "id": "c1d3cb3c-ad82-42c2-9a96-15621c8ec506",
   "metadata": {},
   "source": [
    "<span style=\"color:red\">**Question:**</span> How to load an RGB image dataset?"
   ]
  },
  {
   "cell_type": "code",
   "execution_count": 5,
   "id": "3e899fc8-c1f7-44bb-9216-12dc48232f48",
   "metadata": {},
   "outputs": [
    {
     "name": "stdout",
     "output_type": "stream",
     "text": [
      "[[134 134 134 ... 129 129 129]\n",
      " [134 134 134 ... 129 129 129]\n",
      " [134 134 134 ... 129 129 129]\n",
      " ...\n",
      " [135 135 133 ... 133 133 133]\n",
      " [135 133 133 ... 133 133 133]\n",
      " [133 133 133 ... 133 133 133]]\n"
     ]
    }
   ],
   "source": [
    "from PIL import Image\n",
    "import numpy as np\n",
    "\n",
    "# Load the image\n",
    "image = Image.open('figures/lec2_pic1.png')\n",
    "\n",
    "# Split the image into its R, G, B components\n",
    "r, g, b, a = image.split()\n",
    "\n",
    "# Create a new image with the same size but only with the red component\n",
    "r_image = Image.merge(\"RGB\", (r, Image.new('L', r.size), Image.new('L', r.size)))\n",
    "\n",
    "# Similarly, create images for the green and blue components\n",
    "g_image = Image.merge(\"RGB\", (Image.new('L', g.size), g, Image.new('L', g.size)))\n",
    "b_image = Image.merge(\"RGB\", (Image.new('L', b.size), Image.new('L', b.size), b))\n",
    "\n",
    "# Convert the R channel to a numpy array\n",
    "r_array = np.array(r)\n",
    "\n",
    "# Print the matrix\n",
    "print(r_array)\n",
    "\n",
    "# Save or display the images\n",
    "r_image.show() # This will display the image\n",
    "# g_image.show()\n",
    "# b_image.show()"
   ]
  },
  {
   "cell_type": "markdown",
   "id": "49d11a01-de73-4a29-830a-6b6925762c97",
   "metadata": {},
   "source": [
    "### Other useful data preprocessing packages\n",
    "#### Text analysis and natural language processing\n",
    "- [NLTK](https://www.nltk.org/): a leading platform for building Python programs to work with human language data.\n",
    "- [spaCy](https://spacy.io/): a free, open-source library for advanced Natural Language Processing (NLP) in Python.\n",
    "- 20 Newsgroups dataset: a collection of approximately 20,000 newsgroup documents, partitioned (nearly) evenly across 20 different newsgroups.\n",
    "- [tensorflow-datasets](https://www.tensorflow.org/datasets): a collection of datasets ready to use with TensorFlow."
   ]
  },
  {
   "cell_type": "code",
   "execution_count": 1,
   "id": "10db36ac-01b4-4138-8d2b-eaebcab9b532",
   "metadata": {},
   "outputs": [],
   "source": [
    "import pandas as pd    # to load dataset\n",
    "data = pd.read_csv('../datasets/IMDB.csv')\n",
    "# print(data)"
   ]
  },
  {
   "cell_type": "markdown",
   "id": "a45d5a33-e39a-4a65-be95-fb90feda85ef",
   "metadata": {},
   "source": [
    "<hr>\n",
    "<b>Stop Word</b> is a commonly used words in a sentence, usually a search engine is programmed to ignore this words (i.e. \"the\", \"a\", \"an\", \"of\", etc.)\n",
    "\n",
    "<i>Declaring the english stop words</i>"
   ]
  },
  {
   "cell_type": "code",
   "execution_count": 2,
   "id": "d7e50394-7928-4a84-8dae-3383334ff3ee",
   "metadata": {},
   "outputs": [
    {
     "name": "stderr",
     "output_type": "stream",
     "text": [
      "[nltk_data] Downloading package stopwords to ../datasets/...\n",
      "[nltk_data]   Package stopwords is already up-to-date!\n"
     ]
    }
   ],
   "source": [
    "import nltk\n",
    "from nltk.corpus import stopwords   # to get a collection of stopwords\n",
    "custom_path = '../datasets/'\n",
    "\n",
    "# Append your custom path to the NLTK data path\n",
    "nltk.data.path.append(custom_path)\n",
    "\n",
    "nltk.download('stopwords', download_dir=custom_path)\n",
    "english_stops = set(stopwords.words('english'))"
   ]
  },
  {
   "cell_type": "markdown",
   "id": "242c47ea-096c-43bf-b817-60f257a52122",
   "metadata": {},
   "source": [
    "<hr>\n",
    "<b>Load and Clean Dataset</b>\n",
    "In the original dataset, the reviews are still dirty. There are still html tags, numbers, uppercase, and punctuations. This will not be good for training beside loading the dataset using <b>pandas</b>, I also pre-process the reviews by removing html tags, non alphabet (punctuations and numbers), stop words, and lower case all of the reviews."
   ]
  },
  {
   "cell_type": "code",
   "execution_count": 3,
   "id": "3e4312dc-c2cf-4052-a896-275281e2aa0e",
   "metadata": {},
   "outputs": [],
   "source": [
    "x_data = data['review']       # Reviews/Input\n",
    "y_data = data['sentiment']    # Sentiment/Output\n",
    "# PRE-PROCESS REVIEW\n",
    "x_data = x_data.replace({'<.*?>': ''}, regex = True)          # remove html tag\n",
    "x_data = x_data.replace({'[^A-Za-z]': ' '}, regex = True)     # remove non alphabet\n",
    "x_data = x_data.apply(lambda review: [w for w in review.split() if w not in english_stops])  # remove stop words\n",
    "x_data = x_data.apply(lambda review: [w.lower() for w in review])   # lower case"
   ]
  },
  {
   "cell_type": "markdown",
   "id": "e626b029-1b49-4e03-a660-e20bc9ce0792",
   "metadata": {},
   "source": [
    "<hr>\n",
    "<b>Tokenize</b> A Neural Network only accepts numeric data, so we need to encode the reviews. We can do this by using Tokenizer from Keras. Tokenizer will tokenize the reviews and convert it into sequence of numbers. The numbers represent the index of the word in the dictionary. The dictionary is created by the Tokenizer. The dictionary is created based on the frequency of the word in the dataset. The most frequent word will have the lowest index and vice versa."
   ]
  },
  {
   "cell_type": "code",
   "execution_count": null,
   "id": "9fc48fee-31b1-41ad-b350-cacc6840ba7a",
   "metadata": {},
   "outputs": [],
   "source": [
    "from keras.preprocessing.text import Tokenizer\n",
    "from keras.preprocessing.sequence import pad_sequences\n",
    "tokenizer = Tokenizer(num_words=10000)    # num_words is the number of words to keep based on word frequency\n",
    "tokenizer.fit_on_texts(x_data)            # fit tokenizer to our training text data\n",
    "x_data = tokenizer.texts_to_sequences(x_data)  # convert our text data to sequence of numbers"
   ]
  },
  {
   "cell_type": "markdown",
   "id": "addb9002-421e-4274-a033-373aa29b1223",
   "metadata": {},
   "source": [
    "#### Time series analysis\n",
    "- [statsmodels](https://www.statsmodels.org/stable/index.html): a Python module that provides classes and functions for the estimation of many different statistical models, as well as for conducting statistical tests, and statistical data exploration.\n",
    "- [Airline Passengers dataset](https://www.kaggle.com/rakannimer/air-passengers): The classic Box & Jenkins airline data. Monthly totals of international airline passengers, 1949 to 1960.\n",
    "- [Stock dataset](https://www.kaggle.com/borismarjanovic/price-volume-data-for-all-us-stocks-etfs): This dataset includes historical stock prices (last 5 years) for all companies currently found on the S&P 500 index.\n",
    "- [Electricity dataset](https://archive.ics.uci.edu/ml/datasets/ElectricityLoadDiagrams20112014): This data set contains the electricity consumption of 370 customers from 2011-2014 and is taken from the UCI Machine Learning Repository."
   ]
  },
  {
   "cell_type": "code",
   "execution_count": null,
   "id": "1c06784d-4cff-4e05-a0d5-a15d2ec32b4b",
   "metadata": {},
   "outputs": [],
   "source": []
  },
  {
   "cell_type": "markdown",
   "id": "426f578a-495f-4158-b2f0-1babd7e4935e",
   "metadata": {},
   "source": [
    "#### Reinforcement learning\n",
    "- [OpenAI Gym](https://gym.openai.com/): a toolkit for developing and comparing reinforcement learning algorithms.\n",
    "- [Atari 2600 games](https://gym.openai.com/envs/#atari): a collection of Atari 2600 games that are compatible with OpenAI Gym."
   ]
  },
  {
   "cell_type": "code",
   "execution_count": null,
   "id": "fc4e049e-9dd4-4b16-bd75-23c170488f5d",
   "metadata": {},
   "outputs": [],
   "source": []
  },
  {
   "cell_type": "markdown",
   "id": "46cdee1a-d354-4182-b93e-190ba03147ef",
   "metadata": {},
   "source": [
    "## Data preprocessing for structured data\n",
    "Structured data is highly organized and easily searchable in databases and spreadsheets, typically in tabular form with rows and columns.\n",
    "1. **Data cleaning**: Fill in missing values, smooth noisy data, identify or remove outliers, and resolve inconsistencies.\n",
    "    - **Handling missing values**: Fill missing values using strategies like mean/mode substitution, forward fill, backward fill, or removal of rows/columns.\n",
    "    - **Removing duplicate data**: Remove duplicate data based on a subset of columns or all columns.\n",
    "    - **Filtering outliers**: Detect and handle outliers that can affect the analysis (using statistical techniques like Z-scores, IQR)\n",
    "2. **Data transformation**: Discretize continuous features, handle categorical features, and convert strings to numbers.\n",
    "    - **Normalization and Standardization**: Rescale data to a standard range or distribution (e.g., Min-Max scaling, Z-score normalization).\n",
    "    - **Encoding categorical data**: Convert categorical data into numerical form using techniques like one-hot encoding or label encoding.\n",
    "3. **Data reduction**: Reduce the volume but retain critical information.\n",
    "    - **Feature selection**: Select a subset of relevant features (columns) for building robust learning models.\n",
    "    - **Feature extraction**: Derive new features from existing ones that are more compact, informative, and easy to understand (e.g., PCA, tSNE, UMAP).\n",
    "4. **Feature Engineering**: \n",
    "    - **Creating new features**: Derive new meaningful features from existing data (e.g. TDA).\n",
    "    - **Feature selection**: Select the most relevant features for the model (feature ranking -- random forest)."
   ]
  },
  {
   "cell_type": "code",
   "execution_count": null,
   "id": "3ba80f6a-e6c6-40b8-80a7-e2c1e90407b6",
   "metadata": {},
   "outputs": [],
   "source": []
  },
  {
   "cell_type": "markdown",
   "id": "90f22e74-7f7a-4c52-8d08-481866edfdd7",
   "metadata": {},
   "source": [
    "## Data preprocessing for unstructured data\n",
    "Unstructured data is not organized in a predefined way and includes formats like text, images, and audio.\n",
    "1. **Text data**:\n",
    "    - **Tokenization**: Breaking text into words, phrases, symbols, or other meaningful elements.\n",
    "    - **Text cleaning**: Removing irrelevant characters, such as special symbols, numbers, and punctuation.\n",
    "    - **Stop word removal**: Eliminating common words that add no significant value.\n",
    "    - **Stemming and lemmatization**: Reducing words to their root form or lemma.\n",
    "    - **Vectorization**: Converting text to numerical format using techniques like Bag of Words, TF-IDF.\n",
    "\n",
    "2. **Image Data**:\n",
    "    - **Image resizing and scaling**: Standardizing image sizes and pixel values. **Color space conversion**: Converting images to grayscale or different color spaces if required.\n",
    "    - **Image augmentation**: Creating altered versions of images to expand the dataset (e.g., flipping, rotating).\n",
    "    - **Noise reduction**: Applying filters to reduce noise in images.\n",
    "\n",
    "3. **Audio data**:\n",
    "    - **Sampling**: Converting continuous audio signals into discrete values.\n",
    "    - **Noise reduction**: Removing background noise.\n",
    "    - **Feature extraction**: Extracting features like Mel-Frequency Cepstral Coefficients (MFCCs), Zero-Crossing Rate, Chroma.\n",
    "\n",
    "4. **Graph data**:\n",
    "   - **Protein structure**: Protein structure prediction.\n",
    "   - **Power system**: Power system state estimation.\n",
    "  \n",
    "4. **Feature Engineering**: \n",
    "    - **Creating new features**: Derive new meaningful features from existing data (e.g. TDA).\n",
    "    - **Feature selection**: Select the most relevant features for the model (feature ranking -- random forest).\n",
    "\n",
    "**NOTE**: Now, this is a good time to think about your dataset."
   ]
  },
  {
   "cell_type": "code",
   "execution_count": null,
   "id": "0620eeed-7d15-4717-9adb-288921787490",
   "metadata": {},
   "outputs": [],
   "source": []
  }
 ],
 "metadata": {
  "kernelspec": {
   "display_name": "Python 3 (ipykernel)",
   "language": "python",
   "name": "python3"
  },
  "language_info": {
   "codemirror_mode": {
    "name": "ipython",
    "version": 3
   },
   "file_extension": ".py",
   "mimetype": "text/x-python",
   "name": "python",
   "nbconvert_exporter": "python",
   "pygments_lexer": "ipython3",
   "version": "3.11.7"
  }
 },
 "nbformat": 4,
 "nbformat_minor": 5
}
